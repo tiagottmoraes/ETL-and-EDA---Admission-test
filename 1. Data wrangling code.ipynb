{
 "metadata": {
  "language_info": {
   "codemirror_mode": {
    "name": "ipython",
    "version": 3
   },
   "file_extension": ".py",
   "mimetype": "text/x-python",
   "name": "python",
   "nbconvert_exporter": "python",
   "pygments_lexer": "ipython3",
   "version": "3.9.5"
  },
  "orig_nbformat": 2,
  "kernelspec": {
   "name": "python3",
   "display_name": "Python 3.9.5 64-bit"
  },
  "metadata": {
   "interpreter": {
    "hash": "bf3288ed2828b036a6ff4392f25b55c2f5c8bcbe78b3cbd29a21ec407b552697"
   }
  },
  "interpreter": {
   "hash": "bf3288ed2828b036a6ff4392f25b55c2f5c8bcbe78b3cbd29a21ec407b552697"
  }
 },
 "nbformat": 4,
 "nbformat_minor": 2,
 "cells": [
  {
   "source": [
    "<left>\n",
    "    <a href=img><img src = \"https://proetica.icts.com.br/assets/img/ICTS-Protiviti-Logo.png\" width=\"400\"  />\n",
    "</left>\n",
    "\n",
    "## Processo de extração, limpeza e preparação de dataset referente aos dados de processos de\n",
    "## tratatamento térmico (recozimento)\n",
    "\n",
    "## \n",
    "Autor: Tiago Moraes"
   ],
   "cell_type": "markdown",
   "metadata": {}
  },
  {
   "source": [
    "### 1. Carregamento de informações"
   ],
   "cell_type": "markdown",
   "metadata": {}
  },
  {
   "cell_type": "code",
   "execution_count": 1,
   "metadata": {},
   "outputs": [
    {
     "output_type": "stream",
     "name": "stdout",
     "text": [
      "Libraries sucessfully loaded\n"
     ]
    }
   ],
   "source": [
    "import pandas as pd\n",
    "import numpy as np\n",
    "print (\"Libraries sucessfully loaded\") # print para assegurar que as bibliotecas necessárias carregaram corretamente"
   ]
  },
  {
   "cell_type": "code",
   "execution_count": 2,
   "metadata": {},
   "outputs": [],
   "source": [
    "# carregando arquivo data_experimentos, hospedado em repostório no Github para facilitar a compatibilidade deste notebook ao ser compartilhado \n",
    "filename_exp = \"https://raw.githubusercontent.com/tiagottmoraes/admission-test/main/datasets/data_experimentos.csv\""
   ]
  },
  {
   "cell_type": "code",
   "execution_count": 3,
   "metadata": {},
   "outputs": [
    {
     "output_type": "execute_result",
     "data": {
      "text/plain": [
       "      exp_id   ano  mes\n",
       "0          2  2020    8\n",
       "1       1368  2020    8\n",
       "2       1130  2020    8\n",
       "3        402  2020    8\n",
       "4        407  2020    8\n",
       "...      ...   ...  ...\n",
       "2419    1354  2020    7\n",
       "2420    1610  2020    7\n",
       "2421    2243  2020    7\n",
       "2422     900  2020    7\n",
       "2423     534  2020    7\n",
       "\n",
       "[2424 rows x 3 columns]"
      ],
      "text/html": "<div>\n<style scoped>\n    .dataframe tbody tr th:only-of-type {\n        vertical-align: middle;\n    }\n\n    .dataframe tbody tr th {\n        vertical-align: top;\n    }\n\n    .dataframe thead th {\n        text-align: right;\n    }\n</style>\n<table border=\"1\" class=\"dataframe\">\n  <thead>\n    <tr style=\"text-align: right;\">\n      <th></th>\n      <th>exp_id</th>\n      <th>ano</th>\n      <th>mes</th>\n    </tr>\n  </thead>\n  <tbody>\n    <tr>\n      <th>0</th>\n      <td>2</td>\n      <td>2020</td>\n      <td>8</td>\n    </tr>\n    <tr>\n      <th>1</th>\n      <td>1368</td>\n      <td>2020</td>\n      <td>8</td>\n    </tr>\n    <tr>\n      <th>2</th>\n      <td>1130</td>\n      <td>2020</td>\n      <td>8</td>\n    </tr>\n    <tr>\n      <th>3</th>\n      <td>402</td>\n      <td>2020</td>\n      <td>8</td>\n    </tr>\n    <tr>\n      <th>4</th>\n      <td>407</td>\n      <td>2020</td>\n      <td>8</td>\n    </tr>\n    <tr>\n      <th>...</th>\n      <td>...</td>\n      <td>...</td>\n      <td>...</td>\n    </tr>\n    <tr>\n      <th>2419</th>\n      <td>1354</td>\n      <td>2020</td>\n      <td>7</td>\n    </tr>\n    <tr>\n      <th>2420</th>\n      <td>1610</td>\n      <td>2020</td>\n      <td>7</td>\n    </tr>\n    <tr>\n      <th>2421</th>\n      <td>2243</td>\n      <td>2020</td>\n      <td>7</td>\n    </tr>\n    <tr>\n      <th>2422</th>\n      <td>900</td>\n      <td>2020</td>\n      <td>7</td>\n    </tr>\n    <tr>\n      <th>2423</th>\n      <td>534</td>\n      <td>2020</td>\n      <td>7</td>\n    </tr>\n  </tbody>\n</table>\n<p>2424 rows × 3 columns</p>\n</div>"
     },
     "metadata": {},
     "execution_count": 3
    }
   ],
   "source": [
    "# criado dataframe para armazenar os dados obtivos do arquivo .csv\n",
    "df = pd.read_csv(filename_exp)\n",
    "df"
   ]
  },
  {
   "cell_type": "code",
   "execution_count": 4,
   "metadata": {},
   "outputs": [],
   "source": [
    "# carregando arquivo train.csv \n",
    "filename_train = \"https://raw.githubusercontent.com/tiagottmoraes/admission-test/main/datasets/train.csv\""
   ]
  },
  {
   "cell_type": "code",
   "execution_count": 5,
   "metadata": {},
   "outputs": [],
   "source": [
    "# criado um dataframe para armazenar os dados do arquivo carregado\n",
    "other = pd.read_csv(filename_train)"
   ]
  },
  {
   "source": [
    "### 2. Juntando os dois datasets\n",
    "\n"
   ],
   "cell_type": "markdown",
   "metadata": {}
  },
  {
   "cell_type": "code",
   "execution_count": 6,
   "metadata": {},
   "outputs": [
    {
     "output_type": "execute_result",
     "data": {
      "text/plain": [
       "(2424, 40)"
      ]
     },
     "metadata": {},
     "execution_count": 6
    }
   ],
   "source": [
    "# Antes de proceder com a junção dos dataframes, checou-se se o tamanho de ambas as bases para entender como o processo deveria ser feito\n",
    "other.shape"
   ]
  },
  {
   "cell_type": "code",
   "execution_count": 7,
   "metadata": {},
   "outputs": [
    {
     "output_type": "execute_result",
     "data": {
      "text/plain": [
       "      exp_id   ano  mes family product-type steel  carbon  hardness  \\\n",
       "0          2  2020    8      ?            C     A       8         0   \n",
       "1       1368  2020    8      ?            C     R       0         0   \n",
       "2       1130  2020    8      ?            C     A       0        60   \n",
       "3        402  2020    8      ?            C     A       0        60   \n",
       "4        407  2020    8      ?            C     A       0        45   \n",
       "...      ...   ...  ...    ...          ...   ...     ...       ...   \n",
       "2419    1354  2020    7      ?            C     R       0         0   \n",
       "2420    1610  2020    7     TN            C     A       0         0   \n",
       "2421    2243  2020    7      ?            C     R       0         0   \n",
       "2422     900  2020    7      ?            C     A       0        85   \n",
       "2423     534  2020    7      ?            C     A       0        85   \n",
       "\n",
       "     temper_rolling condition  ...  p  shape      thick       width       len  \\\n",
       "0                 ?         S  ...  ?   COIL     _0.7_     _610.0_       _0_    \n",
       "1                 ?         S  ...  ?  SHEET     _0.7_    _1300.0_     _762_    \n",
       "2                 T         ?  ...  ?   COIL   _2.801_     _385.1_       _0_    \n",
       "3                 T         ?  ...  ?  SHEET   _0.801_     _255.0_     _269_    \n",
       "4                 ?         S  ...  ?   COIL     _1.6_     _610.0_       _0_    \n",
       "...             ...       ...  ... ..    ...        ...         ...       ...   \n",
       "2419              ?         S  ...  ?  SHEET     _1.6_    _1500.0_    _4170_    \n",
       "2420              ?         ?  ...  ?  SHEET     _1.2_     _609.9_       _1_    \n",
       "2421              ?         S  ...  ?  SHEET   _1.601_     _830.0_     _880_    \n",
       "2422              T         ?  ...  ?   COIL     _0.4_      _20.0_       _0_    \n",
       "2423              T         ?  ...  ?   COIL     _4.0_     _610.0_       _0_    \n",
       "\n",
       "     oil bore packing recozimento experimento  \n",
       "0      ?    0       ?        ruim       exp_2  \n",
       "1      ?    0       ?        ruim    exp_1368  \n",
       "2      ?    0       ?       ideal    exp_1130  \n",
       "3      ?    0       ?       ideal     exp_402  \n",
       "4      ?    0       ?     mediano     exp_407  \n",
       "...   ..  ...     ...         ...         ...  \n",
       "2419   ?    0       ?     mediano    exp_1354  \n",
       "2420   ?    0       ?     mediano    exp_1610  \n",
       "2421   ?    0       ?     mediano    exp_2243  \n",
       "2422   ?    0       ?     mediano     exp_900  \n",
       "2423   ?  500       ?     mediano     exp_534  \n",
       "\n",
       "[2424 rows x 43 columns]"
      ],
      "text/html": "<div>\n<style scoped>\n    .dataframe tbody tr th:only-of-type {\n        vertical-align: middle;\n    }\n\n    .dataframe tbody tr th {\n        vertical-align: top;\n    }\n\n    .dataframe thead th {\n        text-align: right;\n    }\n</style>\n<table border=\"1\" class=\"dataframe\">\n  <thead>\n    <tr style=\"text-align: right;\">\n      <th></th>\n      <th>exp_id</th>\n      <th>ano</th>\n      <th>mes</th>\n      <th>family</th>\n      <th>product-type</th>\n      <th>steel</th>\n      <th>carbon</th>\n      <th>hardness</th>\n      <th>temper_rolling</th>\n      <th>condition</th>\n      <th>...</th>\n      <th>p</th>\n      <th>shape</th>\n      <th>thick</th>\n      <th>width</th>\n      <th>len</th>\n      <th>oil</th>\n      <th>bore</th>\n      <th>packing</th>\n      <th>recozimento</th>\n      <th>experimento</th>\n    </tr>\n  </thead>\n  <tbody>\n    <tr>\n      <th>0</th>\n      <td>2</td>\n      <td>2020</td>\n      <td>8</td>\n      <td>?</td>\n      <td>C</td>\n      <td>A</td>\n      <td>8</td>\n      <td>0</td>\n      <td>?</td>\n      <td>S</td>\n      <td>...</td>\n      <td>?</td>\n      <td>COIL</td>\n      <td>_0.7_</td>\n      <td>_610.0_</td>\n      <td>_0_</td>\n      <td>?</td>\n      <td>0</td>\n      <td>?</td>\n      <td>ruim</td>\n      <td>exp_2</td>\n    </tr>\n    <tr>\n      <th>1</th>\n      <td>1368</td>\n      <td>2020</td>\n      <td>8</td>\n      <td>?</td>\n      <td>C</td>\n      <td>R</td>\n      <td>0</td>\n      <td>0</td>\n      <td>?</td>\n      <td>S</td>\n      <td>...</td>\n      <td>?</td>\n      <td>SHEET</td>\n      <td>_0.7_</td>\n      <td>_1300.0_</td>\n      <td>_762_</td>\n      <td>?</td>\n      <td>0</td>\n      <td>?</td>\n      <td>ruim</td>\n      <td>exp_1368</td>\n    </tr>\n    <tr>\n      <th>2</th>\n      <td>1130</td>\n      <td>2020</td>\n      <td>8</td>\n      <td>?</td>\n      <td>C</td>\n      <td>A</td>\n      <td>0</td>\n      <td>60</td>\n      <td>T</td>\n      <td>?</td>\n      <td>...</td>\n      <td>?</td>\n      <td>COIL</td>\n      <td>_2.801_</td>\n      <td>_385.1_</td>\n      <td>_0_</td>\n      <td>?</td>\n      <td>0</td>\n      <td>?</td>\n      <td>ideal</td>\n      <td>exp_1130</td>\n    </tr>\n    <tr>\n      <th>3</th>\n      <td>402</td>\n      <td>2020</td>\n      <td>8</td>\n      <td>?</td>\n      <td>C</td>\n      <td>A</td>\n      <td>0</td>\n      <td>60</td>\n      <td>T</td>\n      <td>?</td>\n      <td>...</td>\n      <td>?</td>\n      <td>SHEET</td>\n      <td>_0.801_</td>\n      <td>_255.0_</td>\n      <td>_269_</td>\n      <td>?</td>\n      <td>0</td>\n      <td>?</td>\n      <td>ideal</td>\n      <td>exp_402</td>\n    </tr>\n    <tr>\n      <th>4</th>\n      <td>407</td>\n      <td>2020</td>\n      <td>8</td>\n      <td>?</td>\n      <td>C</td>\n      <td>A</td>\n      <td>0</td>\n      <td>45</td>\n      <td>?</td>\n      <td>S</td>\n      <td>...</td>\n      <td>?</td>\n      <td>COIL</td>\n      <td>_1.6_</td>\n      <td>_610.0_</td>\n      <td>_0_</td>\n      <td>?</td>\n      <td>0</td>\n      <td>?</td>\n      <td>mediano</td>\n      <td>exp_407</td>\n    </tr>\n    <tr>\n      <th>...</th>\n      <td>...</td>\n      <td>...</td>\n      <td>...</td>\n      <td>...</td>\n      <td>...</td>\n      <td>...</td>\n      <td>...</td>\n      <td>...</td>\n      <td>...</td>\n      <td>...</td>\n      <td>...</td>\n      <td>...</td>\n      <td>...</td>\n      <td>...</td>\n      <td>...</td>\n      <td>...</td>\n      <td>...</td>\n      <td>...</td>\n      <td>...</td>\n      <td>...</td>\n      <td>...</td>\n    </tr>\n    <tr>\n      <th>2419</th>\n      <td>1354</td>\n      <td>2020</td>\n      <td>7</td>\n      <td>?</td>\n      <td>C</td>\n      <td>R</td>\n      <td>0</td>\n      <td>0</td>\n      <td>?</td>\n      <td>S</td>\n      <td>...</td>\n      <td>?</td>\n      <td>SHEET</td>\n      <td>_1.6_</td>\n      <td>_1500.0_</td>\n      <td>_4170_</td>\n      <td>?</td>\n      <td>0</td>\n      <td>?</td>\n      <td>mediano</td>\n      <td>exp_1354</td>\n    </tr>\n    <tr>\n      <th>2420</th>\n      <td>1610</td>\n      <td>2020</td>\n      <td>7</td>\n      <td>TN</td>\n      <td>C</td>\n      <td>A</td>\n      <td>0</td>\n      <td>0</td>\n      <td>?</td>\n      <td>?</td>\n      <td>...</td>\n      <td>?</td>\n      <td>SHEET</td>\n      <td>_1.2_</td>\n      <td>_609.9_</td>\n      <td>_1_</td>\n      <td>?</td>\n      <td>0</td>\n      <td>?</td>\n      <td>mediano</td>\n      <td>exp_1610</td>\n    </tr>\n    <tr>\n      <th>2421</th>\n      <td>2243</td>\n      <td>2020</td>\n      <td>7</td>\n      <td>?</td>\n      <td>C</td>\n      <td>R</td>\n      <td>0</td>\n      <td>0</td>\n      <td>?</td>\n      <td>S</td>\n      <td>...</td>\n      <td>?</td>\n      <td>SHEET</td>\n      <td>_1.601_</td>\n      <td>_830.0_</td>\n      <td>_880_</td>\n      <td>?</td>\n      <td>0</td>\n      <td>?</td>\n      <td>mediano</td>\n      <td>exp_2243</td>\n    </tr>\n    <tr>\n      <th>2422</th>\n      <td>900</td>\n      <td>2020</td>\n      <td>7</td>\n      <td>?</td>\n      <td>C</td>\n      <td>A</td>\n      <td>0</td>\n      <td>85</td>\n      <td>T</td>\n      <td>?</td>\n      <td>...</td>\n      <td>?</td>\n      <td>COIL</td>\n      <td>_0.4_</td>\n      <td>_20.0_</td>\n      <td>_0_</td>\n      <td>?</td>\n      <td>0</td>\n      <td>?</td>\n      <td>mediano</td>\n      <td>exp_900</td>\n    </tr>\n    <tr>\n      <th>2423</th>\n      <td>534</td>\n      <td>2020</td>\n      <td>7</td>\n      <td>?</td>\n      <td>C</td>\n      <td>A</td>\n      <td>0</td>\n      <td>85</td>\n      <td>T</td>\n      <td>?</td>\n      <td>...</td>\n      <td>?</td>\n      <td>COIL</td>\n      <td>_4.0_</td>\n      <td>_610.0_</td>\n      <td>_0_</td>\n      <td>?</td>\n      <td>500</td>\n      <td>?</td>\n      <td>mediano</td>\n      <td>exp_534</td>\n    </tr>\n  </tbody>\n</table>\n<p>2424 rows × 43 columns</p>\n</div>"
     },
     "metadata": {},
     "execution_count": 7
    }
   ],
   "source": [
    "# junção\n",
    "dados = df.join(other)\n",
    "dados"
   ]
  },
  {
   "source": [
    "Observando o dataframe resultante da junção, observa-se que a primeira coluna ('exp_id') e a última ('experimento') apresentam a mesma informação, ou seja, o id de cada experimento realizado. Assim, optou-se por remover a última coluna deste df."
   ],
   "cell_type": "markdown",
   "metadata": {}
  },
  {
   "cell_type": "code",
   "execution_count": 8,
   "metadata": {},
   "outputs": [],
   "source": [
    "del dados['experimento']"
   ]
  },
  {
   "cell_type": "code",
   "execution_count": 9,
   "metadata": {},
   "outputs": [
    {
     "output_type": "execute_result",
     "data": {
      "text/plain": [
       "   exp_id   ano  mes family product-type steel  carbon  hardness  \\\n",
       "0       2  2020    8      ?            C     A       8         0   \n",
       "1    1368  2020    8      ?            C     R       0         0   \n",
       "2    1130  2020    8      ?            C     A       0        60   \n",
       "3     402  2020    8      ?            C     A       0        60   \n",
       "4     407  2020    8      ?            C     A       0        45   \n",
       "\n",
       "  temper_rolling condition  ...  s  p  shape      thick       width      len  \\\n",
       "0              ?         S  ...  ?  ?   COIL     _0.7_     _610.0_      _0_    \n",
       "1              ?         S  ...  ?  ?  SHEET     _0.7_    _1300.0_    _762_    \n",
       "2              T         ?  ...  ?  ?   COIL   _2.801_     _385.1_      _0_    \n",
       "3              T         ?  ...  ?  ?  SHEET   _0.801_     _255.0_    _269_    \n",
       "4              ?         S  ...  ?  ?   COIL     _1.6_     _610.0_      _0_    \n",
       "\n",
       "  oil bore packing recozimento  \n",
       "0   ?    0       ?        ruim  \n",
       "1   ?    0       ?        ruim  \n",
       "2   ?    0       ?       ideal  \n",
       "3   ?    0       ?       ideal  \n",
       "4   ?    0       ?     mediano  \n",
       "\n",
       "[5 rows x 42 columns]"
      ],
      "text/html": "<div>\n<style scoped>\n    .dataframe tbody tr th:only-of-type {\n        vertical-align: middle;\n    }\n\n    .dataframe tbody tr th {\n        vertical-align: top;\n    }\n\n    .dataframe thead th {\n        text-align: right;\n    }\n</style>\n<table border=\"1\" class=\"dataframe\">\n  <thead>\n    <tr style=\"text-align: right;\">\n      <th></th>\n      <th>exp_id</th>\n      <th>ano</th>\n      <th>mes</th>\n      <th>family</th>\n      <th>product-type</th>\n      <th>steel</th>\n      <th>carbon</th>\n      <th>hardness</th>\n      <th>temper_rolling</th>\n      <th>condition</th>\n      <th>...</th>\n      <th>s</th>\n      <th>p</th>\n      <th>shape</th>\n      <th>thick</th>\n      <th>width</th>\n      <th>len</th>\n      <th>oil</th>\n      <th>bore</th>\n      <th>packing</th>\n      <th>recozimento</th>\n    </tr>\n  </thead>\n  <tbody>\n    <tr>\n      <th>0</th>\n      <td>2</td>\n      <td>2020</td>\n      <td>8</td>\n      <td>?</td>\n      <td>C</td>\n      <td>A</td>\n      <td>8</td>\n      <td>0</td>\n      <td>?</td>\n      <td>S</td>\n      <td>...</td>\n      <td>?</td>\n      <td>?</td>\n      <td>COIL</td>\n      <td>_0.7_</td>\n      <td>_610.0_</td>\n      <td>_0_</td>\n      <td>?</td>\n      <td>0</td>\n      <td>?</td>\n      <td>ruim</td>\n    </tr>\n    <tr>\n      <th>1</th>\n      <td>1368</td>\n      <td>2020</td>\n      <td>8</td>\n      <td>?</td>\n      <td>C</td>\n      <td>R</td>\n      <td>0</td>\n      <td>0</td>\n      <td>?</td>\n      <td>S</td>\n      <td>...</td>\n      <td>?</td>\n      <td>?</td>\n      <td>SHEET</td>\n      <td>_0.7_</td>\n      <td>_1300.0_</td>\n      <td>_762_</td>\n      <td>?</td>\n      <td>0</td>\n      <td>?</td>\n      <td>ruim</td>\n    </tr>\n    <tr>\n      <th>2</th>\n      <td>1130</td>\n      <td>2020</td>\n      <td>8</td>\n      <td>?</td>\n      <td>C</td>\n      <td>A</td>\n      <td>0</td>\n      <td>60</td>\n      <td>T</td>\n      <td>?</td>\n      <td>...</td>\n      <td>?</td>\n      <td>?</td>\n      <td>COIL</td>\n      <td>_2.801_</td>\n      <td>_385.1_</td>\n      <td>_0_</td>\n      <td>?</td>\n      <td>0</td>\n      <td>?</td>\n      <td>ideal</td>\n    </tr>\n    <tr>\n      <th>3</th>\n      <td>402</td>\n      <td>2020</td>\n      <td>8</td>\n      <td>?</td>\n      <td>C</td>\n      <td>A</td>\n      <td>0</td>\n      <td>60</td>\n      <td>T</td>\n      <td>?</td>\n      <td>...</td>\n      <td>?</td>\n      <td>?</td>\n      <td>SHEET</td>\n      <td>_0.801_</td>\n      <td>_255.0_</td>\n      <td>_269_</td>\n      <td>?</td>\n      <td>0</td>\n      <td>?</td>\n      <td>ideal</td>\n    </tr>\n    <tr>\n      <th>4</th>\n      <td>407</td>\n      <td>2020</td>\n      <td>8</td>\n      <td>?</td>\n      <td>C</td>\n      <td>A</td>\n      <td>0</td>\n      <td>45</td>\n      <td>?</td>\n      <td>S</td>\n      <td>...</td>\n      <td>?</td>\n      <td>?</td>\n      <td>COIL</td>\n      <td>_1.6_</td>\n      <td>_610.0_</td>\n      <td>_0_</td>\n      <td>?</td>\n      <td>0</td>\n      <td>?</td>\n      <td>mediano</td>\n    </tr>\n  </tbody>\n</table>\n<p>5 rows × 42 columns</p>\n</div>"
     },
     "metadata": {},
     "execution_count": 9
    }
   ],
   "source": [
    "dados.head()"
   ]
  },
  {
   "source": [
    "### 3. Formatação e limpeza dos dados"
   ],
   "cell_type": "markdown",
   "metadata": {}
  },
  {
   "cell_type": "code",
   "execution_count": 10,
   "metadata": {},
   "outputs": [
    {
     "output_type": "execute_result",
     "data": {
      "text/plain": [
       "      exp_id   ano  mes family product-type steel  carbon  hardness  \\\n",
       "0          2  2020    8      ?            C     A       8         0   \n",
       "1       1368  2020    8      ?            C     R       0         0   \n",
       "2       1130  2020    8      ?            C     A       0        60   \n",
       "3        402  2020    8      ?            C     A       0        60   \n",
       "4        407  2020    8      ?            C     A       0        45   \n",
       "...      ...   ...  ...    ...          ...   ...     ...       ...   \n",
       "2419    1354  2020    7      ?            C     R       0         0   \n",
       "2420    1610  2020    7     TN            C     A       0         0   \n",
       "2421    2243  2020    7      ?            C     R       0         0   \n",
       "2422     900  2020    7      ?            C     A       0        85   \n",
       "2423     534  2020    7      ?            C     A       0        85   \n",
       "\n",
       "     temper_rolling condition  ...  s  p  shape    thick     width     len  \\\n",
       "0                 ?         S  ...  ?  ?   COIL     0.7     610.0       0    \n",
       "1                 ?         S  ...  ?  ?  SHEET     0.7    1300.0     762    \n",
       "2                 T         ?  ...  ?  ?   COIL   2.801     385.1       0    \n",
       "3                 T         ?  ...  ?  ?  SHEET   0.801     255.0     269    \n",
       "4                 ?         S  ...  ?  ?   COIL     1.6     610.0       0    \n",
       "...             ...       ...  ... .. ..    ...      ...       ...     ...   \n",
       "2419              ?         S  ...  ?  ?  SHEET     1.6    1500.0    4170    \n",
       "2420              ?         ?  ...  ?  ?  SHEET     1.2     609.9       1    \n",
       "2421              ?         S  ...  ?  ?  SHEET   1.601     830.0     880    \n",
       "2422              T         ?  ...  ?  ?   COIL     0.4      20.0       0    \n",
       "2423              T         ?  ...  ?  ?   COIL     4.0     610.0       0    \n",
       "\n",
       "     oil bore packing recozimento  \n",
       "0      ?    0       ?        ruim  \n",
       "1      ?    0       ?        ruim  \n",
       "2      ?    0       ?       ideal  \n",
       "3      ?    0       ?       ideal  \n",
       "4      ?    0       ?     mediano  \n",
       "...   ..  ...     ...         ...  \n",
       "2419   ?    0       ?     mediano  \n",
       "2420   ?    0       ?     mediano  \n",
       "2421   ?    0       ?     mediano  \n",
       "2422   ?    0       ?     mediano  \n",
       "2423   ?  500       ?     mediano  \n",
       "\n",
       "[2424 rows x 42 columns]"
      ],
      "text/html": "<div>\n<style scoped>\n    .dataframe tbody tr th:only-of-type {\n        vertical-align: middle;\n    }\n\n    .dataframe tbody tr th {\n        vertical-align: top;\n    }\n\n    .dataframe thead th {\n        text-align: right;\n    }\n</style>\n<table border=\"1\" class=\"dataframe\">\n  <thead>\n    <tr style=\"text-align: right;\">\n      <th></th>\n      <th>exp_id</th>\n      <th>ano</th>\n      <th>mes</th>\n      <th>family</th>\n      <th>product-type</th>\n      <th>steel</th>\n      <th>carbon</th>\n      <th>hardness</th>\n      <th>temper_rolling</th>\n      <th>condition</th>\n      <th>...</th>\n      <th>s</th>\n      <th>p</th>\n      <th>shape</th>\n      <th>thick</th>\n      <th>width</th>\n      <th>len</th>\n      <th>oil</th>\n      <th>bore</th>\n      <th>packing</th>\n      <th>recozimento</th>\n    </tr>\n  </thead>\n  <tbody>\n    <tr>\n      <th>0</th>\n      <td>2</td>\n      <td>2020</td>\n      <td>8</td>\n      <td>?</td>\n      <td>C</td>\n      <td>A</td>\n      <td>8</td>\n      <td>0</td>\n      <td>?</td>\n      <td>S</td>\n      <td>...</td>\n      <td>?</td>\n      <td>?</td>\n      <td>COIL</td>\n      <td>0.7</td>\n      <td>610.0</td>\n      <td>0</td>\n      <td>?</td>\n      <td>0</td>\n      <td>?</td>\n      <td>ruim</td>\n    </tr>\n    <tr>\n      <th>1</th>\n      <td>1368</td>\n      <td>2020</td>\n      <td>8</td>\n      <td>?</td>\n      <td>C</td>\n      <td>R</td>\n      <td>0</td>\n      <td>0</td>\n      <td>?</td>\n      <td>S</td>\n      <td>...</td>\n      <td>?</td>\n      <td>?</td>\n      <td>SHEET</td>\n      <td>0.7</td>\n      <td>1300.0</td>\n      <td>762</td>\n      <td>?</td>\n      <td>0</td>\n      <td>?</td>\n      <td>ruim</td>\n    </tr>\n    <tr>\n      <th>2</th>\n      <td>1130</td>\n      <td>2020</td>\n      <td>8</td>\n      <td>?</td>\n      <td>C</td>\n      <td>A</td>\n      <td>0</td>\n      <td>60</td>\n      <td>T</td>\n      <td>?</td>\n      <td>...</td>\n      <td>?</td>\n      <td>?</td>\n      <td>COIL</td>\n      <td>2.801</td>\n      <td>385.1</td>\n      <td>0</td>\n      <td>?</td>\n      <td>0</td>\n      <td>?</td>\n      <td>ideal</td>\n    </tr>\n    <tr>\n      <th>3</th>\n      <td>402</td>\n      <td>2020</td>\n      <td>8</td>\n      <td>?</td>\n      <td>C</td>\n      <td>A</td>\n      <td>0</td>\n      <td>60</td>\n      <td>T</td>\n      <td>?</td>\n      <td>...</td>\n      <td>?</td>\n      <td>?</td>\n      <td>SHEET</td>\n      <td>0.801</td>\n      <td>255.0</td>\n      <td>269</td>\n      <td>?</td>\n      <td>0</td>\n      <td>?</td>\n      <td>ideal</td>\n    </tr>\n    <tr>\n      <th>4</th>\n      <td>407</td>\n      <td>2020</td>\n      <td>8</td>\n      <td>?</td>\n      <td>C</td>\n      <td>A</td>\n      <td>0</td>\n      <td>45</td>\n      <td>?</td>\n      <td>S</td>\n      <td>...</td>\n      <td>?</td>\n      <td>?</td>\n      <td>COIL</td>\n      <td>1.6</td>\n      <td>610.0</td>\n      <td>0</td>\n      <td>?</td>\n      <td>0</td>\n      <td>?</td>\n      <td>mediano</td>\n    </tr>\n    <tr>\n      <th>...</th>\n      <td>...</td>\n      <td>...</td>\n      <td>...</td>\n      <td>...</td>\n      <td>...</td>\n      <td>...</td>\n      <td>...</td>\n      <td>...</td>\n      <td>...</td>\n      <td>...</td>\n      <td>...</td>\n      <td>...</td>\n      <td>...</td>\n      <td>...</td>\n      <td>...</td>\n      <td>...</td>\n      <td>...</td>\n      <td>...</td>\n      <td>...</td>\n      <td>...</td>\n      <td>...</td>\n    </tr>\n    <tr>\n      <th>2419</th>\n      <td>1354</td>\n      <td>2020</td>\n      <td>7</td>\n      <td>?</td>\n      <td>C</td>\n      <td>R</td>\n      <td>0</td>\n      <td>0</td>\n      <td>?</td>\n      <td>S</td>\n      <td>...</td>\n      <td>?</td>\n      <td>?</td>\n      <td>SHEET</td>\n      <td>1.6</td>\n      <td>1500.0</td>\n      <td>4170</td>\n      <td>?</td>\n      <td>0</td>\n      <td>?</td>\n      <td>mediano</td>\n    </tr>\n    <tr>\n      <th>2420</th>\n      <td>1610</td>\n      <td>2020</td>\n      <td>7</td>\n      <td>TN</td>\n      <td>C</td>\n      <td>A</td>\n      <td>0</td>\n      <td>0</td>\n      <td>?</td>\n      <td>?</td>\n      <td>...</td>\n      <td>?</td>\n      <td>?</td>\n      <td>SHEET</td>\n      <td>1.2</td>\n      <td>609.9</td>\n      <td>1</td>\n      <td>?</td>\n      <td>0</td>\n      <td>?</td>\n      <td>mediano</td>\n    </tr>\n    <tr>\n      <th>2421</th>\n      <td>2243</td>\n      <td>2020</td>\n      <td>7</td>\n      <td>?</td>\n      <td>C</td>\n      <td>R</td>\n      <td>0</td>\n      <td>0</td>\n      <td>?</td>\n      <td>S</td>\n      <td>...</td>\n      <td>?</td>\n      <td>?</td>\n      <td>SHEET</td>\n      <td>1.601</td>\n      <td>830.0</td>\n      <td>880</td>\n      <td>?</td>\n      <td>0</td>\n      <td>?</td>\n      <td>mediano</td>\n    </tr>\n    <tr>\n      <th>2422</th>\n      <td>900</td>\n      <td>2020</td>\n      <td>7</td>\n      <td>?</td>\n      <td>C</td>\n      <td>A</td>\n      <td>0</td>\n      <td>85</td>\n      <td>T</td>\n      <td>?</td>\n      <td>...</td>\n      <td>?</td>\n      <td>?</td>\n      <td>COIL</td>\n      <td>0.4</td>\n      <td>20.0</td>\n      <td>0</td>\n      <td>?</td>\n      <td>0</td>\n      <td>?</td>\n      <td>mediano</td>\n    </tr>\n    <tr>\n      <th>2423</th>\n      <td>534</td>\n      <td>2020</td>\n      <td>7</td>\n      <td>?</td>\n      <td>C</td>\n      <td>A</td>\n      <td>0</td>\n      <td>85</td>\n      <td>T</td>\n      <td>?</td>\n      <td>...</td>\n      <td>?</td>\n      <td>?</td>\n      <td>COIL</td>\n      <td>4.0</td>\n      <td>610.0</td>\n      <td>0</td>\n      <td>?</td>\n      <td>500</td>\n      <td>?</td>\n      <td>mediano</td>\n    </tr>\n  </tbody>\n</table>\n<p>2424 rows × 42 columns</p>\n</div>"
     },
     "metadata": {},
     "execution_count": 10
    }
   ],
   "source": [
    "# as colunas \"thick\", \"width\" e \"len\" estão formatadas incorretamente, com o caracter '_' antes e depois dos valores. Utilizou-se a função \"replace\" para remover este caracter\n",
    "dados[\"thick\"] = dados[\"thick\"].replace(to_replace =\"_\", value = '', regex = True)\n",
    "dados[\"width\"] = dados[\"width\"].replace(to_replace =\"_\", value = '', regex = True)\n",
    "dados[\"len\"] = dados[\"len\"].replace(to_replace =\"_\", value = '', regex = True)\n",
    "dados"
   ]
  },
  {
   "source": [
    "#### 3.1 Análise de valores ausentes\n",
    "Anteriormente observou-se a presença de diversos caracteres incorretos (como \"?\"). Assim, procedeu-se com a análise de valores ausentes ou incorretos"
   ],
   "cell_type": "markdown",
   "metadata": {}
  },
  {
   "cell_type": "code",
   "execution_count": 11,
   "metadata": {},
   "outputs": [
    {
     "output_type": "execute_result",
     "data": {
      "text/plain": [
       "   exp_id   ano  mes family product-type steel  carbon  hardness  \\\n",
       "0       2  2020    8    NaN            C     A       8         0   \n",
       "1    1368  2020    8    NaN            C     R       0         0   \n",
       "2    1130  2020    8    NaN            C     A       0        60   \n",
       "3     402  2020    8    NaN            C     A       0        60   \n",
       "4     407  2020    8    NaN            C     A       0        45   \n",
       "\n",
       "  temper_rolling condition  ...   s   p  shape    thick     width    len  oil  \\\n",
       "0            NaN         S  ... NaN NaN   COIL     0.7     610.0      0   NaN   \n",
       "1            NaN         S  ... NaN NaN  SHEET     0.7    1300.0    762   NaN   \n",
       "2              T       NaN  ... NaN NaN   COIL   2.801     385.1      0   NaN   \n",
       "3              T       NaN  ... NaN NaN  SHEET   0.801     255.0    269   NaN   \n",
       "4            NaN         S  ... NaN NaN   COIL     1.6     610.0      0   NaN   \n",
       "\n",
       "  bore packing recozimento  \n",
       "0    0     NaN        ruim  \n",
       "1    0     NaN        ruim  \n",
       "2    0     NaN       ideal  \n",
       "3    0     NaN       ideal  \n",
       "4    0     NaN     mediano  \n",
       "\n",
       "[5 rows x 42 columns]"
      ],
      "text/html": "<div>\n<style scoped>\n    .dataframe tbody tr th:only-of-type {\n        vertical-align: middle;\n    }\n\n    .dataframe tbody tr th {\n        vertical-align: top;\n    }\n\n    .dataframe thead th {\n        text-align: right;\n    }\n</style>\n<table border=\"1\" class=\"dataframe\">\n  <thead>\n    <tr style=\"text-align: right;\">\n      <th></th>\n      <th>exp_id</th>\n      <th>ano</th>\n      <th>mes</th>\n      <th>family</th>\n      <th>product-type</th>\n      <th>steel</th>\n      <th>carbon</th>\n      <th>hardness</th>\n      <th>temper_rolling</th>\n      <th>condition</th>\n      <th>...</th>\n      <th>s</th>\n      <th>p</th>\n      <th>shape</th>\n      <th>thick</th>\n      <th>width</th>\n      <th>len</th>\n      <th>oil</th>\n      <th>bore</th>\n      <th>packing</th>\n      <th>recozimento</th>\n    </tr>\n  </thead>\n  <tbody>\n    <tr>\n      <th>0</th>\n      <td>2</td>\n      <td>2020</td>\n      <td>8</td>\n      <td>NaN</td>\n      <td>C</td>\n      <td>A</td>\n      <td>8</td>\n      <td>0</td>\n      <td>NaN</td>\n      <td>S</td>\n      <td>...</td>\n      <td>NaN</td>\n      <td>NaN</td>\n      <td>COIL</td>\n      <td>0.7</td>\n      <td>610.0</td>\n      <td>0</td>\n      <td>NaN</td>\n      <td>0</td>\n      <td>NaN</td>\n      <td>ruim</td>\n    </tr>\n    <tr>\n      <th>1</th>\n      <td>1368</td>\n      <td>2020</td>\n      <td>8</td>\n      <td>NaN</td>\n      <td>C</td>\n      <td>R</td>\n      <td>0</td>\n      <td>0</td>\n      <td>NaN</td>\n      <td>S</td>\n      <td>...</td>\n      <td>NaN</td>\n      <td>NaN</td>\n      <td>SHEET</td>\n      <td>0.7</td>\n      <td>1300.0</td>\n      <td>762</td>\n      <td>NaN</td>\n      <td>0</td>\n      <td>NaN</td>\n      <td>ruim</td>\n    </tr>\n    <tr>\n      <th>2</th>\n      <td>1130</td>\n      <td>2020</td>\n      <td>8</td>\n      <td>NaN</td>\n      <td>C</td>\n      <td>A</td>\n      <td>0</td>\n      <td>60</td>\n      <td>T</td>\n      <td>NaN</td>\n      <td>...</td>\n      <td>NaN</td>\n      <td>NaN</td>\n      <td>COIL</td>\n      <td>2.801</td>\n      <td>385.1</td>\n      <td>0</td>\n      <td>NaN</td>\n      <td>0</td>\n      <td>NaN</td>\n      <td>ideal</td>\n    </tr>\n    <tr>\n      <th>3</th>\n      <td>402</td>\n      <td>2020</td>\n      <td>8</td>\n      <td>NaN</td>\n      <td>C</td>\n      <td>A</td>\n      <td>0</td>\n      <td>60</td>\n      <td>T</td>\n      <td>NaN</td>\n      <td>...</td>\n      <td>NaN</td>\n      <td>NaN</td>\n      <td>SHEET</td>\n      <td>0.801</td>\n      <td>255.0</td>\n      <td>269</td>\n      <td>NaN</td>\n      <td>0</td>\n      <td>NaN</td>\n      <td>ideal</td>\n    </tr>\n    <tr>\n      <th>4</th>\n      <td>407</td>\n      <td>2020</td>\n      <td>8</td>\n      <td>NaN</td>\n      <td>C</td>\n      <td>A</td>\n      <td>0</td>\n      <td>45</td>\n      <td>NaN</td>\n      <td>S</td>\n      <td>...</td>\n      <td>NaN</td>\n      <td>NaN</td>\n      <td>COIL</td>\n      <td>1.6</td>\n      <td>610.0</td>\n      <td>0</td>\n      <td>NaN</td>\n      <td>0</td>\n      <td>NaN</td>\n      <td>mediano</td>\n    </tr>\n  </tbody>\n</table>\n<p>5 rows × 42 columns</p>\n</div>"
     },
     "metadata": {},
     "execution_count": 11
    }
   ],
   "source": [
    "# trocando todos os \"?\" por NaN com função do numpy\n",
    "dados.replace(\"?\",np.nan, inplace=True)\n",
    "dados.head()"
   ]
  },
  {
   "cell_type": "code",
   "execution_count": 12,
   "metadata": {},
   "outputs": [
    {
     "output_type": "execute_result",
     "data": {
      "text/plain": [
       "   exp_id    ano    mes  family  product-type  steel  carbon  hardness  \\\n",
       "0   False  False  False    True         False  False   False     False   \n",
       "1   False  False  False    True         False  False   False     False   \n",
       "2   False  False  False    True         False  False   False     False   \n",
       "3   False  False  False    True         False  False   False     False   \n",
       "4   False  False  False    True         False  False   False     False   \n",
       "\n",
       "   temper_rolling  condition  ...     s     p  shape  thick  width    len  \\\n",
       "0            True      False  ...  True  True  False  False  False  False   \n",
       "1            True      False  ...  True  True  False  False  False  False   \n",
       "2           False       True  ...  True  True  False  False  False  False   \n",
       "3           False       True  ...  True  True  False  False  False  False   \n",
       "4            True      False  ...  True  True  False  False  False  False   \n",
       "\n",
       "    oil   bore  packing  recozimento  \n",
       "0  True  False     True        False  \n",
       "1  True  False     True        False  \n",
       "2  True  False     True        False  \n",
       "3  True  False     True        False  \n",
       "4  True  False     True        False  \n",
       "\n",
       "[5 rows x 42 columns]"
      ],
      "text/html": "<div>\n<style scoped>\n    .dataframe tbody tr th:only-of-type {\n        vertical-align: middle;\n    }\n\n    .dataframe tbody tr th {\n        vertical-align: top;\n    }\n\n    .dataframe thead th {\n        text-align: right;\n    }\n</style>\n<table border=\"1\" class=\"dataframe\">\n  <thead>\n    <tr style=\"text-align: right;\">\n      <th></th>\n      <th>exp_id</th>\n      <th>ano</th>\n      <th>mes</th>\n      <th>family</th>\n      <th>product-type</th>\n      <th>steel</th>\n      <th>carbon</th>\n      <th>hardness</th>\n      <th>temper_rolling</th>\n      <th>condition</th>\n      <th>...</th>\n      <th>s</th>\n      <th>p</th>\n      <th>shape</th>\n      <th>thick</th>\n      <th>width</th>\n      <th>len</th>\n      <th>oil</th>\n      <th>bore</th>\n      <th>packing</th>\n      <th>recozimento</th>\n    </tr>\n  </thead>\n  <tbody>\n    <tr>\n      <th>0</th>\n      <td>False</td>\n      <td>False</td>\n      <td>False</td>\n      <td>True</td>\n      <td>False</td>\n      <td>False</td>\n      <td>False</td>\n      <td>False</td>\n      <td>True</td>\n      <td>False</td>\n      <td>...</td>\n      <td>True</td>\n      <td>True</td>\n      <td>False</td>\n      <td>False</td>\n      <td>False</td>\n      <td>False</td>\n      <td>True</td>\n      <td>False</td>\n      <td>True</td>\n      <td>False</td>\n    </tr>\n    <tr>\n      <th>1</th>\n      <td>False</td>\n      <td>False</td>\n      <td>False</td>\n      <td>True</td>\n      <td>False</td>\n      <td>False</td>\n      <td>False</td>\n      <td>False</td>\n      <td>True</td>\n      <td>False</td>\n      <td>...</td>\n      <td>True</td>\n      <td>True</td>\n      <td>False</td>\n      <td>False</td>\n      <td>False</td>\n      <td>False</td>\n      <td>True</td>\n      <td>False</td>\n      <td>True</td>\n      <td>False</td>\n    </tr>\n    <tr>\n      <th>2</th>\n      <td>False</td>\n      <td>False</td>\n      <td>False</td>\n      <td>True</td>\n      <td>False</td>\n      <td>False</td>\n      <td>False</td>\n      <td>False</td>\n      <td>False</td>\n      <td>True</td>\n      <td>...</td>\n      <td>True</td>\n      <td>True</td>\n      <td>False</td>\n      <td>False</td>\n      <td>False</td>\n      <td>False</td>\n      <td>True</td>\n      <td>False</td>\n      <td>True</td>\n      <td>False</td>\n    </tr>\n    <tr>\n      <th>3</th>\n      <td>False</td>\n      <td>False</td>\n      <td>False</td>\n      <td>True</td>\n      <td>False</td>\n      <td>False</td>\n      <td>False</td>\n      <td>False</td>\n      <td>False</td>\n      <td>True</td>\n      <td>...</td>\n      <td>True</td>\n      <td>True</td>\n      <td>False</td>\n      <td>False</td>\n      <td>False</td>\n      <td>False</td>\n      <td>True</td>\n      <td>False</td>\n      <td>True</td>\n      <td>False</td>\n    </tr>\n    <tr>\n      <th>4</th>\n      <td>False</td>\n      <td>False</td>\n      <td>False</td>\n      <td>True</td>\n      <td>False</td>\n      <td>False</td>\n      <td>False</td>\n      <td>False</td>\n      <td>True</td>\n      <td>False</td>\n      <td>...</td>\n      <td>True</td>\n      <td>True</td>\n      <td>False</td>\n      <td>False</td>\n      <td>False</td>\n      <td>False</td>\n      <td>True</td>\n      <td>False</td>\n      <td>True</td>\n      <td>False</td>\n    </tr>\n  </tbody>\n</table>\n<p>5 rows × 42 columns</p>\n</div>"
     },
     "metadata": {},
     "execution_count": 12
    }
   ],
   "source": [
    "# verificando se existem células sem valor\n",
    "missing_data=dados.isnull()\n",
    "missing_data.head()"
   ]
  },
  {
   "cell_type": "code",
   "execution_count": 13,
   "metadata": {},
   "outputs": [
    {
     "output_type": "stream",
     "name": "stdout",
     "text": [
      " \nTotal de itens NaN presentes nas colunas do DataFrame 'Dados': \n\n exp_id                       0\nano                          0\nmes                          0\nfamily                    2073\nproduct-type                 0\nsteel                      231\ncarbon                       0\nhardness                     0\ntemper_rolling            2043\ncondition                  822\nformability                873\nstrength                     0\nnon-ageing                2139\nsurface-finish            2400\nsurface-quality            645\nenamelability             2385\nbc                        2421\nbf                        2070\nbt                        2220\nbw/me                     1851\nbl                        2019\nm                         2424\nchrom                     2352\nphos                      2406\ncbond                     2223\nmarvi                     2424\nexptl                     2418\nferro                     2343\ncorr                      2424\nblue/bright/varn/clean    2409\nlustre                    2286\njurofm                    2424\ns                         2424\np                         2424\nshape                        0\nthick                        0\nwidth                        0\nlen                          0\noil                       2250\nbore                         0\npacking                   2397\nrecozimento                  0\ndtype: int64\n"
     ]
    }
   ],
   "source": [
    "print(\" \\nTotal de itens NaN presentes nas colunas do DataFrame 'Dados': \\n\\n\", dados.isnull().sum())\n"
   ]
  },
  {
   "source": [
    "Observa-se que uma grande quantidade de variáveis possuem a totalidade de suas linhas (ou seja 2424) como NaN. Além disso, diversas outras variáveis possuem mais de 90% de seu conteúdo como sendo NaN. Em ambos os casos, optou-se por remover estas variáveis, uma vez que elas possuem pouco valor estatístico, considerando o espaço amostral, além de que a sua remoção deixaria o dataframe muito mais enxuto. "
   ],
   "cell_type": "markdown",
   "metadata": {}
  },
  {
   "cell_type": "code",
   "execution_count": 14,
   "metadata": {},
   "outputs": [],
   "source": [
    "df_clean = dados.drop(['family','temper_rolling','non-ageing','surface-finish','enamelability', 'bc', 'bw/me', 'bf', 'bt', 'bl', 'chrom', 'phos', 'cbond', 'exptl', 'ferro', 'blue/bright/varn/clean','lustre', 'oil', 'packing','m', 'marvi', 'corr' , 'jurofm' , 's' , 'p'], axis = 1)"
   ]
  },
  {
   "source": [
    "#### 3.2 Ajustando o tipo de cada variável do DF"
   ],
   "cell_type": "markdown",
   "metadata": {}
  },
  {
   "cell_type": "code",
   "execution_count": 15,
   "metadata": {},
   "outputs": [
    {
     "output_type": "execute_result",
     "data": {
      "text/plain": [
       "exp_id              int64\n",
       "ano                 int64\n",
       "mes                 int64\n",
       "product-type       object\n",
       "steel              object\n",
       "carbon              int64\n",
       "hardness            int64\n",
       "condition          object\n",
       "formability        object\n",
       "strength            int64\n",
       "surface-quality    object\n",
       "shape              object\n",
       "thick              object\n",
       "width              object\n",
       "len                object\n",
       "bore                int64\n",
       "recozimento        object\n",
       "dtype: object"
      ]
     },
     "metadata": {},
     "execution_count": 15
    }
   ],
   "source": [
    "# obsevando os tipos de variáveis de cada coluna \n",
    "df_clean.dtypes"
   ]
  },
  {
   "source": [
    "Observa-se que diversas variáveis estão indereçadas incorretamente, como por exemplo, \"thick\" e \"width\" que estão como uma string (object), mas deveriam ser um float"
   ],
   "cell_type": "markdown",
   "metadata": {}
  },
  {
   "cell_type": "code",
   "execution_count": 16,
   "metadata": {},
   "outputs": [
    {
     "output_type": "execute_result",
     "data": {
      "text/plain": [
       "exp_id             float64\n",
       "ano                float64\n",
       "mes                float64\n",
       "product-type        object\n",
       "steel               object\n",
       "carbon               int64\n",
       "hardness             int64\n",
       "condition           object\n",
       "formability        float64\n",
       "strength             int64\n",
       "surface-quality     object\n",
       "shape               object\n",
       "thick              float64\n",
       "width              float64\n",
       "len                float64\n",
       "bore                 int64\n",
       "recozimento         object\n",
       "dtype: object"
      ]
     },
     "metadata": {},
     "execution_count": 16
    }
   ],
   "source": [
    "df_clean[[\"formability\", \"thick\", \"width\", \"len\"]] = df_clean[[\"formability\", \"thick\", \"width\", \"len\"]].astype(\"float\")\n",
    "df_clean[['mes', 'ano', 'exp_id']] = df_clean[['mes','ano','exp_id']].astype('float')\n",
    "df_clean.dtypes"
   ]
  },
  {
   "source": [
    "#### Como solicitado, separou-se os valores referentes ao mes de agosto (mes 8) para a análise completa do histórico dos dados"
   ],
   "cell_type": "markdown",
   "metadata": {}
  },
  {
   "cell_type": "code",
   "execution_count": 17,
   "metadata": {},
   "outputs": [
    {
     "output_type": "execute_result",
     "data": {
      "text/plain": [
       "      exp_id     ano  mes product-type steel  carbon  hardness condition  \\\n",
       "0        2.0  2020.0  8.0            C     A       8         0         S   \n",
       "1     1368.0  2020.0  8.0            C     R       0         0         S   \n",
       "2     1130.0  2020.0  8.0            C     A       0        60       NaN   \n",
       "3      402.0  2020.0  8.0            C     A       0        60       NaN   \n",
       "4      407.0  2020.0  8.0            C     A       0        45         S   \n",
       "...      ...     ...  ...          ...   ...     ...       ...       ...   \n",
       "1611   145.0  2019.0  8.0            C     R       0         0         S   \n",
       "1612   937.0  2019.0  8.0            C     A       0         0       NaN   \n",
       "1613  2228.0  2019.0  8.0            C     R       0         0         S   \n",
       "1614  1263.0  2019.0  8.0            C     A       0        85       NaN   \n",
       "1615  1236.0  2019.0  8.0            C     A       0        85       NaN   \n",
       "\n",
       "      formability  strength surface-quality  shape  thick   width     len  \\\n",
       "0             NaN         0               G   COIL  0.700   610.0     0.0   \n",
       "1             2.0         0               E  SHEET  0.700  1300.0   762.0   \n",
       "2             NaN         0               G   COIL  2.801   385.1     0.0   \n",
       "3             NaN         0               G  SHEET  0.801   255.0   269.0   \n",
       "4             NaN         0               D   COIL  1.600   610.0     0.0   \n",
       "...           ...       ...             ...    ...    ...     ...     ...   \n",
       "1611          2.0         0             NaN  SHEET  1.600  1500.0  4170.0   \n",
       "1612          3.0         0             NaN  SHEET  1.200   609.9     1.0   \n",
       "1613          3.0         0             NaN  SHEET  1.601   830.0   880.0   \n",
       "1614          NaN         0               G   COIL  0.400    20.0     0.0   \n",
       "1615          NaN         0               G   COIL  4.000   610.0     0.0   \n",
       "\n",
       "      bore recozimento  \n",
       "0        0        ruim  \n",
       "1        0        ruim  \n",
       "2        0       ideal  \n",
       "3        0       ideal  \n",
       "4        0     mediano  \n",
       "...    ...         ...  \n",
       "1611     0       ideal  \n",
       "1612     0       ideal  \n",
       "1613     0       ideal  \n",
       "1614     0       ideal  \n",
       "1615   500       ideal  \n",
       "\n",
       "[1616 rows x 17 columns]"
      ],
      "text/html": "<div>\n<style scoped>\n    .dataframe tbody tr th:only-of-type {\n        vertical-align: middle;\n    }\n\n    .dataframe tbody tr th {\n        vertical-align: top;\n    }\n\n    .dataframe thead th {\n        text-align: right;\n    }\n</style>\n<table border=\"1\" class=\"dataframe\">\n  <thead>\n    <tr style=\"text-align: right;\">\n      <th></th>\n      <th>exp_id</th>\n      <th>ano</th>\n      <th>mes</th>\n      <th>product-type</th>\n      <th>steel</th>\n      <th>carbon</th>\n      <th>hardness</th>\n      <th>condition</th>\n      <th>formability</th>\n      <th>strength</th>\n      <th>surface-quality</th>\n      <th>shape</th>\n      <th>thick</th>\n      <th>width</th>\n      <th>len</th>\n      <th>bore</th>\n      <th>recozimento</th>\n    </tr>\n  </thead>\n  <tbody>\n    <tr>\n      <th>0</th>\n      <td>2.0</td>\n      <td>2020.0</td>\n      <td>8.0</td>\n      <td>C</td>\n      <td>A</td>\n      <td>8</td>\n      <td>0</td>\n      <td>S</td>\n      <td>NaN</td>\n      <td>0</td>\n      <td>G</td>\n      <td>COIL</td>\n      <td>0.700</td>\n      <td>610.0</td>\n      <td>0.0</td>\n      <td>0</td>\n      <td>ruim</td>\n    </tr>\n    <tr>\n      <th>1</th>\n      <td>1368.0</td>\n      <td>2020.0</td>\n      <td>8.0</td>\n      <td>C</td>\n      <td>R</td>\n      <td>0</td>\n      <td>0</td>\n      <td>S</td>\n      <td>2.0</td>\n      <td>0</td>\n      <td>E</td>\n      <td>SHEET</td>\n      <td>0.700</td>\n      <td>1300.0</td>\n      <td>762.0</td>\n      <td>0</td>\n      <td>ruim</td>\n    </tr>\n    <tr>\n      <th>2</th>\n      <td>1130.0</td>\n      <td>2020.0</td>\n      <td>8.0</td>\n      <td>C</td>\n      <td>A</td>\n      <td>0</td>\n      <td>60</td>\n      <td>NaN</td>\n      <td>NaN</td>\n      <td>0</td>\n      <td>G</td>\n      <td>COIL</td>\n      <td>2.801</td>\n      <td>385.1</td>\n      <td>0.0</td>\n      <td>0</td>\n      <td>ideal</td>\n    </tr>\n    <tr>\n      <th>3</th>\n      <td>402.0</td>\n      <td>2020.0</td>\n      <td>8.0</td>\n      <td>C</td>\n      <td>A</td>\n      <td>0</td>\n      <td>60</td>\n      <td>NaN</td>\n      <td>NaN</td>\n      <td>0</td>\n      <td>G</td>\n      <td>SHEET</td>\n      <td>0.801</td>\n      <td>255.0</td>\n      <td>269.0</td>\n      <td>0</td>\n      <td>ideal</td>\n    </tr>\n    <tr>\n      <th>4</th>\n      <td>407.0</td>\n      <td>2020.0</td>\n      <td>8.0</td>\n      <td>C</td>\n      <td>A</td>\n      <td>0</td>\n      <td>45</td>\n      <td>S</td>\n      <td>NaN</td>\n      <td>0</td>\n      <td>D</td>\n      <td>COIL</td>\n      <td>1.600</td>\n      <td>610.0</td>\n      <td>0.0</td>\n      <td>0</td>\n      <td>mediano</td>\n    </tr>\n    <tr>\n      <th>...</th>\n      <td>...</td>\n      <td>...</td>\n      <td>...</td>\n      <td>...</td>\n      <td>...</td>\n      <td>...</td>\n      <td>...</td>\n      <td>...</td>\n      <td>...</td>\n      <td>...</td>\n      <td>...</td>\n      <td>...</td>\n      <td>...</td>\n      <td>...</td>\n      <td>...</td>\n      <td>...</td>\n      <td>...</td>\n    </tr>\n    <tr>\n      <th>1611</th>\n      <td>145.0</td>\n      <td>2019.0</td>\n      <td>8.0</td>\n      <td>C</td>\n      <td>R</td>\n      <td>0</td>\n      <td>0</td>\n      <td>S</td>\n      <td>2.0</td>\n      <td>0</td>\n      <td>NaN</td>\n      <td>SHEET</td>\n      <td>1.600</td>\n      <td>1500.0</td>\n      <td>4170.0</td>\n      <td>0</td>\n      <td>ideal</td>\n    </tr>\n    <tr>\n      <th>1612</th>\n      <td>937.0</td>\n      <td>2019.0</td>\n      <td>8.0</td>\n      <td>C</td>\n      <td>A</td>\n      <td>0</td>\n      <td>0</td>\n      <td>NaN</td>\n      <td>3.0</td>\n      <td>0</td>\n      <td>NaN</td>\n      <td>SHEET</td>\n      <td>1.200</td>\n      <td>609.9</td>\n      <td>1.0</td>\n      <td>0</td>\n      <td>ideal</td>\n    </tr>\n    <tr>\n      <th>1613</th>\n      <td>2228.0</td>\n      <td>2019.0</td>\n      <td>8.0</td>\n      <td>C</td>\n      <td>R</td>\n      <td>0</td>\n      <td>0</td>\n      <td>S</td>\n      <td>3.0</td>\n      <td>0</td>\n      <td>NaN</td>\n      <td>SHEET</td>\n      <td>1.601</td>\n      <td>830.0</td>\n      <td>880.0</td>\n      <td>0</td>\n      <td>ideal</td>\n    </tr>\n    <tr>\n      <th>1614</th>\n      <td>1263.0</td>\n      <td>2019.0</td>\n      <td>8.0</td>\n      <td>C</td>\n      <td>A</td>\n      <td>0</td>\n      <td>85</td>\n      <td>NaN</td>\n      <td>NaN</td>\n      <td>0</td>\n      <td>G</td>\n      <td>COIL</td>\n      <td>0.400</td>\n      <td>20.0</td>\n      <td>0.0</td>\n      <td>0</td>\n      <td>ideal</td>\n    </tr>\n    <tr>\n      <th>1615</th>\n      <td>1236.0</td>\n      <td>2019.0</td>\n      <td>8.0</td>\n      <td>C</td>\n      <td>A</td>\n      <td>0</td>\n      <td>85</td>\n      <td>NaN</td>\n      <td>NaN</td>\n      <td>0</td>\n      <td>G</td>\n      <td>COIL</td>\n      <td>4.000</td>\n      <td>610.0</td>\n      <td>0.0</td>\n      <td>500</td>\n      <td>ideal</td>\n    </tr>\n  </tbody>\n</table>\n<p>1616 rows × 17 columns</p>\n</div>"
     },
     "metadata": {},
     "execution_count": 17
    }
   ],
   "source": [
    "grouped = df_clean.groupby(df_clean.mes)\n",
    "df_clean = grouped.get_group(8)\n",
    "df_clean"
   ]
  },
  {
   "source": [
    "Observe que agora o dataframe possui 1616 linhas"
   ],
   "cell_type": "markdown",
   "metadata": {}
  },
  {
   "cell_type": "code",
   "execution_count": 18,
   "metadata": {},
   "outputs": [
    {
     "output_type": "stream",
     "name": "stdout",
     "text": [
      " \nTotal de itens NaN presentes nas colunas do DataFrame 'Dados' : \n\n exp_id               0\nano                  0\nmes                  0\nproduct-type         0\nsteel              154\ncarbon               0\nhardness             0\ncondition          548\nformability        582\nstrength             0\nsurface-quality    430\nshape                0\nthick                0\nwidth                0\nlen                  0\nbore                 0\nrecozimento          0\ndtype: int64\n"
     ]
    }
   ],
   "source": [
    "print(\" \\nTotal de itens NaN presentes nas colunas do DataFrame 'Dados' : \\n\\n\", df_clean.isnull().sum())"
   ]
  },
  {
   "source": [
    "Algumas variáveis ainda possuem células com NaN"
   ],
   "cell_type": "markdown",
   "metadata": {}
  },
  {
   "source": [
    "#### 3.3 Preenchendo espaços vazios com valores médios ou mais frequentes\n",
    "Para as variáveis com uma menor quantidade de valores vazios, optou-se por preenche-los com a média (no caso de variáveis contínuas) ou pela moda (no caso de variáveis discretas)"
   ],
   "cell_type": "markdown",
   "metadata": {}
  },
  {
   "cell_type": "code",
   "execution_count": 19,
   "metadata": {},
   "outputs": [
    {
     "output_type": "stream",
     "name": "stdout",
     "text": [
      "Most frequent element present in 'steel' column: A\nMost frequent element present in 'condition' column: S\nMost frequent element present in 'surface-quality' column: E\nMost frequent element present in 'product-type' column: C\n"
     ]
    }
   ],
   "source": [
    "# encontrado os elementos mais frequentes\n",
    "print (\"Most frequent element present in 'steel' column:\", df_clean['steel'].value_counts().idxmax() )\n",
    "print (\"Most frequent element present in 'condition' column:\", df_clean['condition'].value_counts().idxmax() )\n",
    "print (\"Most frequent element present in 'surface-quality' column:\", df_clean['surface-quality'].value_counts().idxmax() )\n",
    "print (\"Most frequent element present in 'product-type' column:\", df_clean['product-type'].value_counts().idxmax() )"
   ]
  },
  {
   "cell_type": "code",
   "execution_count": 20,
   "metadata": {},
   "outputs": [
    {
     "output_type": "stream",
     "name": "stderr",
     "text": [
      "C:\\Users\\tiago\\AppData\\Local\\Programs\\Python\\Python39\\lib\\site-packages\\pandas\\core\\series.py:4509: SettingWithCopyWarning: \nA value is trying to be set on a copy of a slice from a DataFrame\n\nSee the caveats in the documentation: https://pandas.pydata.org/pandas-docs/stable/user_guide/indexing.html#returning-a-view-versus-a-copy\n  return super().replace(\n"
     ]
    }
   ],
   "source": [
    "# substituindo os NaN pelos elemestos mais frequentes de cada coluna\n",
    "df_clean['steel'].replace(np.nan, \"A\", inplace=True)\n",
    "df_clean['condition'].replace(np.nan, \"S\", inplace=True)\n",
    "df_clean['surface-quality'].replace(np.nan, \"E\", inplace=True) \n",
    "df_clean['product-type'].replace(np.nan, \"C\", inplace=True) "
   ]
  },
  {
   "cell_type": "code",
   "execution_count": 21,
   "metadata": {},
   "outputs": [
    {
     "output_type": "stream",
     "name": "stdout",
     "text": [
      "Average of formability: 2.2147001934235977\nAverage of strength: 30.82920792079208\nAverage of carbon: 3.492574257425743\nAverage of bore: 28.465346534653467\n"
     ]
    }
   ],
   "source": [
    "# calculando a média das váriaveis\n",
    "avg_formab1 = df_clean['formability'].mean(axis=0)\n",
    "avg_formab2 = df_clean['strength'].mean(axis=0)\n",
    "avg_formab3 = df_clean['carbon'].mean(axis=0)\n",
    "avg_formab4 = df_clean['bore'].mean(axis=0)\n",
    "print(\"Average of formability:\", avg_formab1 )\n",
    "print(\"Average of strength:\", avg_formab2 )\n",
    "print(\"Average of carbon:\", avg_formab3 )\n",
    "print(\"Average of bore:\", avg_formab4 )"
   ]
  },
  {
   "cell_type": "code",
   "execution_count": 22,
   "metadata": {},
   "outputs": [],
   "source": [
    "# substituindo os NaN pelos valores da média\n",
    "df_clean['formability'].replace(np.nan, avg_formab1, inplace=True)\n",
    "df_clean['strength'].replace(np.nan, avg_formab2, inplace=True)\n",
    "df_clean['carbon'].replace(np.nan, avg_formab3, inplace=True)\n",
    "df_clean['bore'].replace(np.nan, avg_formab4, inplace=True)"
   ]
  },
  {
   "cell_type": "code",
   "execution_count": 23,
   "metadata": {},
   "outputs": [
    {
     "output_type": "stream",
     "name": "stdout",
     "text": [
      " \nTotal de itens NaN presentes nas colunas do DataFrame 'Dados' : \n\n exp_id             0\nano                0\nmes                0\nproduct-type       0\nsteel              0\ncarbon             0\nhardness           0\ncondition          0\nformability        0\nstrength           0\nsurface-quality    0\nshape              0\nthick              0\nwidth              0\nlen                0\nbore               0\nrecozimento        0\ndtype: int64\n"
     ]
    }
   ],
   "source": [
    "print(\" \\nTotal de itens NaN presentes nas colunas do DataFrame 'Dados' : \\n\\n\", df_clean.isnull().sum())"
   ]
  },
  {
   "source": [
    "Não existem mais colunas células vazias (NaN) neste dataframe"
   ],
   "cell_type": "markdown",
   "metadata": {}
  },
  {
   "cell_type": "code",
   "execution_count": 24,
   "metadata": {},
   "outputs": [
    {
     "output_type": "execute_result",
     "data": {
      "text/plain": [
       "      exp_id     ano  mes product-type steel  carbon  hardness condition  \\\n",
       "0        2.0  2020.0  8.0            C     A       8         0         S   \n",
       "1     1368.0  2020.0  8.0            C     R       0         0         S   \n",
       "2     1130.0  2020.0  8.0            C     A       0        60         S   \n",
       "3      402.0  2020.0  8.0            C     A       0        60         S   \n",
       "4      407.0  2020.0  8.0            C     A       0        45         S   \n",
       "...      ...     ...  ...          ...   ...     ...       ...       ...   \n",
       "1611   145.0  2019.0  8.0            C     R       0         0         S   \n",
       "1612   937.0  2019.0  8.0            C     A       0         0         S   \n",
       "1613  2228.0  2019.0  8.0            C     R       0         0         S   \n",
       "1614  1263.0  2019.0  8.0            C     A       0        85         S   \n",
       "1615  1236.0  2019.0  8.0            C     A       0        85         S   \n",
       "\n",
       "      formability  strength surface-quality  shape  thick   width     len  \\\n",
       "0          2.2147         0               G   COIL  0.700   610.0     0.0   \n",
       "1          2.0000         0               E  SHEET  0.700  1300.0   762.0   \n",
       "2          2.2147         0               G   COIL  2.801   385.1     0.0   \n",
       "3          2.2147         0               G  SHEET  0.801   255.0   269.0   \n",
       "4          2.2147         0               D   COIL  1.600   610.0     0.0   \n",
       "...           ...       ...             ...    ...    ...     ...     ...   \n",
       "1611       2.0000         0               E  SHEET  1.600  1500.0  4170.0   \n",
       "1612       3.0000         0               E  SHEET  1.200   609.9     1.0   \n",
       "1613       3.0000         0               E  SHEET  1.601   830.0   880.0   \n",
       "1614       2.2147         0               G   COIL  0.400    20.0     0.0   \n",
       "1615       2.2147         0               G   COIL  4.000   610.0     0.0   \n",
       "\n",
       "      bore recozimento  \n",
       "0        0        ruim  \n",
       "1        0        ruim  \n",
       "2        0       ideal  \n",
       "3        0       ideal  \n",
       "4        0     mediano  \n",
       "...    ...         ...  \n",
       "1611     0       ideal  \n",
       "1612     0       ideal  \n",
       "1613     0       ideal  \n",
       "1614     0       ideal  \n",
       "1615   500       ideal  \n",
       "\n",
       "[1616 rows x 17 columns]"
      ],
      "text/html": "<div>\n<style scoped>\n    .dataframe tbody tr th:only-of-type {\n        vertical-align: middle;\n    }\n\n    .dataframe tbody tr th {\n        vertical-align: top;\n    }\n\n    .dataframe thead th {\n        text-align: right;\n    }\n</style>\n<table border=\"1\" class=\"dataframe\">\n  <thead>\n    <tr style=\"text-align: right;\">\n      <th></th>\n      <th>exp_id</th>\n      <th>ano</th>\n      <th>mes</th>\n      <th>product-type</th>\n      <th>steel</th>\n      <th>carbon</th>\n      <th>hardness</th>\n      <th>condition</th>\n      <th>formability</th>\n      <th>strength</th>\n      <th>surface-quality</th>\n      <th>shape</th>\n      <th>thick</th>\n      <th>width</th>\n      <th>len</th>\n      <th>bore</th>\n      <th>recozimento</th>\n    </tr>\n  </thead>\n  <tbody>\n    <tr>\n      <th>0</th>\n      <td>2.0</td>\n      <td>2020.0</td>\n      <td>8.0</td>\n      <td>C</td>\n      <td>A</td>\n      <td>8</td>\n      <td>0</td>\n      <td>S</td>\n      <td>2.2147</td>\n      <td>0</td>\n      <td>G</td>\n      <td>COIL</td>\n      <td>0.700</td>\n      <td>610.0</td>\n      <td>0.0</td>\n      <td>0</td>\n      <td>ruim</td>\n    </tr>\n    <tr>\n      <th>1</th>\n      <td>1368.0</td>\n      <td>2020.0</td>\n      <td>8.0</td>\n      <td>C</td>\n      <td>R</td>\n      <td>0</td>\n      <td>0</td>\n      <td>S</td>\n      <td>2.0000</td>\n      <td>0</td>\n      <td>E</td>\n      <td>SHEET</td>\n      <td>0.700</td>\n      <td>1300.0</td>\n      <td>762.0</td>\n      <td>0</td>\n      <td>ruim</td>\n    </tr>\n    <tr>\n      <th>2</th>\n      <td>1130.0</td>\n      <td>2020.0</td>\n      <td>8.0</td>\n      <td>C</td>\n      <td>A</td>\n      <td>0</td>\n      <td>60</td>\n      <td>S</td>\n      <td>2.2147</td>\n      <td>0</td>\n      <td>G</td>\n      <td>COIL</td>\n      <td>2.801</td>\n      <td>385.1</td>\n      <td>0.0</td>\n      <td>0</td>\n      <td>ideal</td>\n    </tr>\n    <tr>\n      <th>3</th>\n      <td>402.0</td>\n      <td>2020.0</td>\n      <td>8.0</td>\n      <td>C</td>\n      <td>A</td>\n      <td>0</td>\n      <td>60</td>\n      <td>S</td>\n      <td>2.2147</td>\n      <td>0</td>\n      <td>G</td>\n      <td>SHEET</td>\n      <td>0.801</td>\n      <td>255.0</td>\n      <td>269.0</td>\n      <td>0</td>\n      <td>ideal</td>\n    </tr>\n    <tr>\n      <th>4</th>\n      <td>407.0</td>\n      <td>2020.0</td>\n      <td>8.0</td>\n      <td>C</td>\n      <td>A</td>\n      <td>0</td>\n      <td>45</td>\n      <td>S</td>\n      <td>2.2147</td>\n      <td>0</td>\n      <td>D</td>\n      <td>COIL</td>\n      <td>1.600</td>\n      <td>610.0</td>\n      <td>0.0</td>\n      <td>0</td>\n      <td>mediano</td>\n    </tr>\n    <tr>\n      <th>...</th>\n      <td>...</td>\n      <td>...</td>\n      <td>...</td>\n      <td>...</td>\n      <td>...</td>\n      <td>...</td>\n      <td>...</td>\n      <td>...</td>\n      <td>...</td>\n      <td>...</td>\n      <td>...</td>\n      <td>...</td>\n      <td>...</td>\n      <td>...</td>\n      <td>...</td>\n      <td>...</td>\n      <td>...</td>\n    </tr>\n    <tr>\n      <th>1611</th>\n      <td>145.0</td>\n      <td>2019.0</td>\n      <td>8.0</td>\n      <td>C</td>\n      <td>R</td>\n      <td>0</td>\n      <td>0</td>\n      <td>S</td>\n      <td>2.0000</td>\n      <td>0</td>\n      <td>E</td>\n      <td>SHEET</td>\n      <td>1.600</td>\n      <td>1500.0</td>\n      <td>4170.0</td>\n      <td>0</td>\n      <td>ideal</td>\n    </tr>\n    <tr>\n      <th>1612</th>\n      <td>937.0</td>\n      <td>2019.0</td>\n      <td>8.0</td>\n      <td>C</td>\n      <td>A</td>\n      <td>0</td>\n      <td>0</td>\n      <td>S</td>\n      <td>3.0000</td>\n      <td>0</td>\n      <td>E</td>\n      <td>SHEET</td>\n      <td>1.200</td>\n      <td>609.9</td>\n      <td>1.0</td>\n      <td>0</td>\n      <td>ideal</td>\n    </tr>\n    <tr>\n      <th>1613</th>\n      <td>2228.0</td>\n      <td>2019.0</td>\n      <td>8.0</td>\n      <td>C</td>\n      <td>R</td>\n      <td>0</td>\n      <td>0</td>\n      <td>S</td>\n      <td>3.0000</td>\n      <td>0</td>\n      <td>E</td>\n      <td>SHEET</td>\n      <td>1.601</td>\n      <td>830.0</td>\n      <td>880.0</td>\n      <td>0</td>\n      <td>ideal</td>\n    </tr>\n    <tr>\n      <th>1614</th>\n      <td>1263.0</td>\n      <td>2019.0</td>\n      <td>8.0</td>\n      <td>C</td>\n      <td>A</td>\n      <td>0</td>\n      <td>85</td>\n      <td>S</td>\n      <td>2.2147</td>\n      <td>0</td>\n      <td>G</td>\n      <td>COIL</td>\n      <td>0.400</td>\n      <td>20.0</td>\n      <td>0.0</td>\n      <td>0</td>\n      <td>ideal</td>\n    </tr>\n    <tr>\n      <th>1615</th>\n      <td>1236.0</td>\n      <td>2019.0</td>\n      <td>8.0</td>\n      <td>C</td>\n      <td>A</td>\n      <td>0</td>\n      <td>85</td>\n      <td>S</td>\n      <td>2.2147</td>\n      <td>0</td>\n      <td>G</td>\n      <td>COIL</td>\n      <td>4.000</td>\n      <td>610.0</td>\n      <td>0.0</td>\n      <td>500</td>\n      <td>ideal</td>\n    </tr>\n  </tbody>\n</table>\n<p>1616 rows × 17 columns</p>\n</div>"
     },
     "metadata": {},
     "execution_count": 24
    }
   ],
   "source": [
    "df_clean"
   ]
  },
  {
   "source": [
    "### 4. Salvando e exportando arquivo trabalhado"
   ],
   "cell_type": "markdown",
   "metadata": {}
  },
  {
   "cell_type": "code",
   "execution_count": 25,
   "metadata": {},
   "outputs": [],
   "source": [
    "# por fim, salva-se o trabalho em um arquivo '.csv', que foi armazenado no repositório do Github\n",
    "df_clean.to_csv('data_experimentos_CLEAN.csv')"
   ]
  },
  {
   "cell_type": "code",
   "execution_count": null,
   "metadata": {},
   "outputs": [],
   "source": []
  }
 ]
}

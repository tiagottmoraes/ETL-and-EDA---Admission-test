{
 "metadata": {
  "language_info": {
   "codemirror_mode": {
    "name": "ipython",
    "version": 3
   },
   "file_extension": ".py",
   "mimetype": "text/x-python",
   "name": "python",
   "nbconvert_exporter": "python",
   "pygments_lexer": "ipython3",
   "version": "3.9.5"
  },
  "orig_nbformat": 2,
  "kernelspec": {
   "name": "python395jvsc74a57bd0bf3288ed2828b036a6ff4392f25b55c2f5c8bcbe78b3cbd29a21ec407b552697",
   "display_name": "Python 3.9.5 64-bit"
  },
  "metadata": {
   "interpreter": {
    "hash": "bf3288ed2828b036a6ff4392f25b55c2f5c8bcbe78b3cbd29a21ec407b552697"
   }
  }
 },
 "nbformat": 4,
 "nbformat_minor": 2,
 "cells": [
  {
   "cell_type": "code",
   "execution_count": 592,
   "metadata": {},
   "outputs": [
    {
     "output_type": "stream",
     "name": "stdout",
     "text": [
      "Libraries sucessfully loaded\n"
     ]
    }
   ],
   "source": [
    "import pandas as pd\n",
    "import numpy as np\n",
    "print (\"Libraries sucessfully loaded\")"
   ]
  },
  {
   "cell_type": "code",
   "execution_count": 455,
   "metadata": {},
   "outputs": [],
   "source": [
    "filename_exp = \"https://raw.githubusercontent.com/tiagottmoraes/admission-test/main/datasets/data_experimentos.csv\""
   ]
  },
  {
   "cell_type": "code",
   "execution_count": 456,
   "metadata": {},
   "outputs": [],
   "source": [
    "df_header = (\"exp_id\", \"year\", \"month\")\n",
    "df = pd.read_csv(filename_exp, names = df_header)"
   ]
  },
  {
   "cell_type": "code",
   "execution_count": 457,
   "metadata": {},
   "outputs": [
    {
     "output_type": "execute_result",
     "data": {
      "text/plain": [
       "     exp_id  year month\n",
       "1         2  2020    08\n",
       "2      1368  2020    08\n",
       "3      1130  2020    08\n",
       "4       402  2020    08\n",
       "5       407  2020    08\n",
       "...     ...   ...   ...\n",
       "2420   1354  2020    07\n",
       "2421   1610  2020    07\n",
       "2422   2243  2020    07\n",
       "2423    900  2020    07\n",
       "2424    534  2020    07\n",
       "\n",
       "[2424 rows x 3 columns]"
      ],
      "text/html": "<div>\n<style scoped>\n    .dataframe tbody tr th:only-of-type {\n        vertical-align: middle;\n    }\n\n    .dataframe tbody tr th {\n        vertical-align: top;\n    }\n\n    .dataframe thead th {\n        text-align: right;\n    }\n</style>\n<table border=\"1\" class=\"dataframe\">\n  <thead>\n    <tr style=\"text-align: right;\">\n      <th></th>\n      <th>exp_id</th>\n      <th>year</th>\n      <th>month</th>\n    </tr>\n  </thead>\n  <tbody>\n    <tr>\n      <th>1</th>\n      <td>2</td>\n      <td>2020</td>\n      <td>08</td>\n    </tr>\n    <tr>\n      <th>2</th>\n      <td>1368</td>\n      <td>2020</td>\n      <td>08</td>\n    </tr>\n    <tr>\n      <th>3</th>\n      <td>1130</td>\n      <td>2020</td>\n      <td>08</td>\n    </tr>\n    <tr>\n      <th>4</th>\n      <td>402</td>\n      <td>2020</td>\n      <td>08</td>\n    </tr>\n    <tr>\n      <th>5</th>\n      <td>407</td>\n      <td>2020</td>\n      <td>08</td>\n    </tr>\n    <tr>\n      <th>...</th>\n      <td>...</td>\n      <td>...</td>\n      <td>...</td>\n    </tr>\n    <tr>\n      <th>2420</th>\n      <td>1354</td>\n      <td>2020</td>\n      <td>07</td>\n    </tr>\n    <tr>\n      <th>2421</th>\n      <td>1610</td>\n      <td>2020</td>\n      <td>07</td>\n    </tr>\n    <tr>\n      <th>2422</th>\n      <td>2243</td>\n      <td>2020</td>\n      <td>07</td>\n    </tr>\n    <tr>\n      <th>2423</th>\n      <td>900</td>\n      <td>2020</td>\n      <td>07</td>\n    </tr>\n    <tr>\n      <th>2424</th>\n      <td>534</td>\n      <td>2020</td>\n      <td>07</td>\n    </tr>\n  </tbody>\n</table>\n<p>2424 rows × 3 columns</p>\n</div>"
     },
     "metadata": {},
     "execution_count": 457
    }
   ],
   "source": [
    "df.drop(index=df.index[0],axis=0, inplace=True)\n",
    "df"
   ]
  },
  {
   "cell_type": "code",
   "execution_count": 458,
   "metadata": {},
   "outputs": [],
   "source": [
    "filename_train = \"https://raw.githubusercontent.com/tiagottmoraes/admission-test/main/datasets/train.csv\""
   ]
  },
  {
   "cell_type": "code",
   "execution_count": 459,
   "metadata": {},
   "outputs": [],
   "source": [
    "other = pd.read_csv(filename_train)"
   ]
  },
  {
   "cell_type": "code",
   "execution_count": 551,
   "metadata": {},
   "outputs": [
    {
     "output_type": "execute_result",
     "data": {
      "text/plain": [
       "(2424, 40)"
      ]
     },
     "metadata": {},
     "execution_count": 551
    }
   ],
   "source": [
    "other.shape"
   ]
  },
  {
   "cell_type": "code",
   "execution_count": 463,
   "metadata": {},
   "outputs": [],
   "source": [
    "dados = df.join(other)"
   ]
  },
  {
   "cell_type": "code",
   "execution_count": 464,
   "metadata": {},
   "outputs": [],
   "source": [
    "del dados['experimento']"
   ]
  },
  {
   "cell_type": "code",
   "execution_count": 465,
   "metadata": {},
   "outputs": [
    {
     "output_type": "execute_result",
     "data": {
      "text/plain": [
       "                              1          2          3          4     \\\n",
       "exp_id                           2       1368       1130        402   \n",
       "year                          2020       2020       2020       2020   \n",
       "month                           08         08         08         08   \n",
       "family                           ?          ?          ?          ?   \n",
       "product-type                     C          C          C          C   \n",
       "steel                            R          A          A          A   \n",
       "carbon                         0.0        0.0        0.0        0.0   \n",
       "hardness                       0.0       60.0       60.0       45.0   \n",
       "temper_rolling                   ?          T          T          ?   \n",
       "condition                        S          ?          ?          S   \n",
       "formability                    2.0          ?          ?          ?   \n",
       "strength                       0.0        0.0        0.0        0.0   \n",
       "non-ageing                       ?          ?          ?          ?   \n",
       "surface-finish                   ?          ?          ?          ?   \n",
       "surface-quality                  E          G          G          D   \n",
       "enamelability                    ?          ?          ?          ?   \n",
       "bc                               ?          ?          ?          ?   \n",
       "bf                               Y          ?          ?          ?   \n",
       "bt                               ?          ?          ?          ?   \n",
       "bw/me                            B          M          B          ?   \n",
       "bl                               ?          ?          Y          ?   \n",
       "m                                ?          ?          ?          ?   \n",
       "chrom                            ?          ?          ?          ?   \n",
       "phos                             ?          ?          ?          ?   \n",
       "cbond                            ?          ?          Y          ?   \n",
       "marvi                            ?          ?          ?          ?   \n",
       "exptl                            ?          ?          ?          ?   \n",
       "ferro                            ?          ?          ?          ?   \n",
       "corr                             ?          ?          ?          ?   \n",
       "blue/bright/varn/clean           ?          ?          ?          ?   \n",
       "lustre                           ?          ?          ?          ?   \n",
       "jurofm                           ?          ?          ?          ?   \n",
       "s                                ?          ?          ?          ?   \n",
       "p                                ?          ?          ?          ?   \n",
       "shape                        SHEET       COIL      SHEET       COIL   \n",
       "thick                       _0.7_    _2.801_    _0.801_      _1.6_    \n",
       "width                    _1300.0_    _385.1_    _255.0_    _610.0_    \n",
       "len                         _762_        _0_      _269_        _0_    \n",
       "oil                              ?          ?          ?          ?   \n",
       "bore                           0.0        0.0        0.0        0.0   \n",
       "packing                          ?          ?          ?          ?   \n",
       "recozimento                   ruim      ideal      ideal    mediano   \n",
       "\n",
       "                             5          6           7           8     \\\n",
       "exp_id                        407       1508        1393        2282   \n",
       "year                         2020       2020        2020        2020   \n",
       "month                          08         08          08          08   \n",
       "family                          ?          ?           ?           ?   \n",
       "product-type                    C          C           C           C   \n",
       "steel                           R          A           R           A   \n",
       "carbon                        0.0        0.0         0.0         0.0   \n",
       "hardness                      0.0        0.0         0.0         0.0   \n",
       "temper_rolling                  ?          ?           ?           ?   \n",
       "condition                       S          S           S           S   \n",
       "formability                   2.0        2.0         2.0         3.0   \n",
       "strength                      0.0        0.0         0.0         0.0   \n",
       "non-ageing                      ?          ?           ?           N   \n",
       "surface-finish                  ?          ?           ?           ?   \n",
       "surface-quality                 E          E           E           E   \n",
       "enamelability                   ?          ?           ?           ?   \n",
       "bc                              ?          ?           ?           ?   \n",
       "bf                              ?          ?           ?           ?   \n",
       "bt                              ?          ?           ?           ?   \n",
       "bw/me                           ?          ?           ?           ?   \n",
       "bl                              Y          ?           ?           ?   \n",
       "m                               ?          ?           ?           ?   \n",
       "chrom                           ?          ?           ?           ?   \n",
       "phos                            ?          ?           ?           ?   \n",
       "cbond                           ?          ?           ?           ?   \n",
       "marvi                           ?          ?           ?           ?   \n",
       "exptl                           ?          ?           ?           ?   \n",
       "ferro                           ?          ?           ?           ?   \n",
       "corr                            ?          ?           ?           ?   \n",
       "blue/bright/varn/clean          ?          ?           ?           ?   \n",
       "lustre                          ?          Y           Y           ?   \n",
       "jurofm                          ?          ?           ?           ?   \n",
       "s                               ?          ?           ?           ?   \n",
       "p                               ?          ?           ?           ?   \n",
       "shape                       SHEET       COIL        COIL       SHEET   \n",
       "thick                    _0.699_      _3.3_     _0.699_       _1.0_    \n",
       "width                    _610.0_    _152.0_    _1320.0_    _1320.0_    \n",
       "len                       _4880_        _0_         _0_       _762_    \n",
       "oil                             Y          ?           ?           ?   \n",
       "bore                          0.0        0.0         0.0         0.0   \n",
       "packing                         ?          ?           ?           ?   \n",
       "recozimento                  ruim       ruim     mediano        ruim   \n",
       "\n",
       "                             9           10    ...        2415       2416  \\\n",
       "exp_id                       1587        1349  ...        1708        834   \n",
       "year                         2020        2020  ...        2020       2020   \n",
       "month                          08          08  ...          07         07   \n",
       "family                          ?           ?  ...           ?          ?   \n",
       "product-type                    C           C  ...           C          C   \n",
       "steel                           R           R  ...           R          K   \n",
       "carbon                        0.0         0.0  ...         0.0       45.0   \n",
       "hardness                      0.0         0.0  ...         0.0        0.0   \n",
       "temper_rolling                  ?           ?  ...           ?          ?   \n",
       "condition                       S           S  ...           S          ?   \n",
       "formability                   2.0         2.0  ...         2.0          ?   \n",
       "strength                      0.0         0.0  ...         0.0        0.0   \n",
       "non-ageing                      ?           ?  ...           ?          ?   \n",
       "surface-finish                  ?           ?  ...           ?          ?   \n",
       "surface-quality                 E           E  ...           E          ?   \n",
       "enamelability                   ?           ?  ...           ?          ?   \n",
       "bc                              ?           ?  ...           ?          ?   \n",
       "bf                              ?           ?  ...           ?          ?   \n",
       "bt                              ?           ?  ...           ?          Y   \n",
       "bw/me                           ?           ?  ...           ?          M   \n",
       "bl                              ?           Y  ...           Y          ?   \n",
       "m                               ?           ?  ...           ?          ?   \n",
       "chrom                           ?           ?  ...           ?          ?   \n",
       "phos                            ?           ?  ...           ?          ?   \n",
       "cbond                           ?           ?  ...           ?          ?   \n",
       "marvi                           ?           ?  ...           ?          ?   \n",
       "exptl                           ?           ?  ...           ?          ?   \n",
       "ferro                           ?           ?  ...           ?          ?   \n",
       "corr                            ?           ?  ...           ?          ?   \n",
       "blue/bright/varn/clean          ?           ?  ...           ?          ?   \n",
       "lustre                          ?           ?  ...           ?          ?   \n",
       "jurofm                          ?           ?  ...           ?          ?   \n",
       "s                               ?           ?  ...           ?          ?   \n",
       "p                               ?           ?  ...           ?          ?   \n",
       "shape                        COIL       SHEET  ...        COIL       COIL   \n",
       "thick                      _1.2_       _0.3_   ...      _3.2_      _3.2_    \n",
       "width                    _610.0_    _1320.0_   ...   _1320.0_    _640.0_    \n",
       "len                          _0_      _4880_   ...        _0_        _0_    \n",
       "oil                             ?           Y  ...           ?          ?   \n",
       "bore                          0.0         0.0  ...         0.0      500.0   \n",
       "packing                         ?           ?  ...           ?          ?   \n",
       "recozimento                  ruim        ruim  ...     mediano    mediano   \n",
       "\n",
       "                             2417       2418        2419       2420  \\\n",
       "exp_id                        897       1891        1526       1354   \n",
       "year                         2020       2020        2020       2020   \n",
       "month                          07         07          07         07   \n",
       "family                         TN         TN           ?         TN   \n",
       "product-type                    C          C           C          C   \n",
       "steel                           A          ?           R          A   \n",
       "carbon                        0.0        0.0         0.0        0.0   \n",
       "hardness                      0.0        0.0         0.0        0.0   \n",
       "temper_rolling                  ?          ?           ?          ?   \n",
       "condition                       ?          A           S          ?   \n",
       "formability                   3.0        1.0         2.0        3.0   \n",
       "strength                      0.0        0.0         0.0        0.0   \n",
       "non-ageing                      N          ?           ?          N   \n",
       "surface-finish                  ?          ?           ?          ?   \n",
       "surface-quality                 ?          ?           ?          ?   \n",
       "enamelability                   ?          ?           ?          ?   \n",
       "bc                              ?          ?           ?          ?   \n",
       "bf                              ?          ?           ?          ?   \n",
       "bt                              ?          ?           ?          ?   \n",
       "bw/me                           B          ?           ?          ?   \n",
       "bl                              ?          ?           Y          ?   \n",
       "m                               ?          ?           ?          ?   \n",
       "chrom                           ?          ?           ?          C   \n",
       "phos                            ?          ?           ?          ?   \n",
       "cbond                           ?          ?           ?          ?   \n",
       "marvi                           ?          ?           ?          ?   \n",
       "exptl                           ?          ?           ?          ?   \n",
       "ferro                           Y          Y           ?          ?   \n",
       "corr                            ?          ?           ?          ?   \n",
       "blue/bright/varn/clean          ?          ?           ?          ?   \n",
       "lustre                          ?          ?           ?          ?   \n",
       "jurofm                          ?          ?           ?          ?   \n",
       "s                               ?          ?           ?          ?   \n",
       "p                               ?          ?           ?          ?   \n",
       "shape                       SHEET      SHEET       SHEET      SHEET   \n",
       "thick                      _1.6_      _1.6_       _1.6_      _1.2_    \n",
       "width                    _609.9_    _609.9_    _1500.0_    _609.9_    \n",
       "len                       _3000_      _612_      _4170_        _1_    \n",
       "oil                             ?          ?           ?          ?   \n",
       "bore                          0.0        0.0         0.0        0.0   \n",
       "packing                         ?          ?           ?          ?   \n",
       "recozimento               mediano    mediano     mediano    mediano   \n",
       "\n",
       "                             2421      2422       2423  2424  \n",
       "exp_id                       1610      2243        900   534  \n",
       "year                         2020      2020       2020  2020  \n",
       "month                          07        07         07    07  \n",
       "family                          ?         ?          ?   NaN  \n",
       "product-type                    C         C          C   NaN  \n",
       "steel                           R         A          A   NaN  \n",
       "carbon                        0.0       0.0        0.0   NaN  \n",
       "hardness                      0.0      85.0       85.0   NaN  \n",
       "temper_rolling                  ?         T          T   NaN  \n",
       "condition                       S         ?          ?   NaN  \n",
       "formability                   3.0         ?          ?   NaN  \n",
       "strength                      0.0       0.0        0.0   NaN  \n",
       "non-ageing                      ?         ?          ?   NaN  \n",
       "surface-finish                  ?         ?          ?   NaN  \n",
       "surface-quality                 ?         G          G   NaN  \n",
       "enamelability                   ?         ?          ?   NaN  \n",
       "bc                              ?         ?          ?   NaN  \n",
       "bf                              ?         ?          ?   NaN  \n",
       "bt                              ?         ?          Y   NaN  \n",
       "bw/me                           ?         ?          M   NaN  \n",
       "bl                              ?         ?          ?   NaN  \n",
       "m                               ?         ?          ?   NaN  \n",
       "chrom                           ?         ?          ?   NaN  \n",
       "phos                            ?         ?          ?   NaN  \n",
       "cbond                           ?         ?          ?   NaN  \n",
       "marvi                           ?         ?          ?   NaN  \n",
       "exptl                           ?         ?          ?   NaN  \n",
       "ferro                           ?         ?          ?   NaN  \n",
       "corr                            ?         ?          ?   NaN  \n",
       "blue/bright/varn/clean          ?         ?          ?   NaN  \n",
       "lustre                          ?         ?          ?   NaN  \n",
       "jurofm                          ?         ?          ?   NaN  \n",
       "s                               ?         ?          ?   NaN  \n",
       "p                               ?         ?          ?   NaN  \n",
       "shape                       SHEET      COIL       COIL   NaN  \n",
       "thick                    _1.601_     _0.4_      _4.0_    NaN  \n",
       "width                    _830.0_    _20.0_    _610.0_    NaN  \n",
       "len                        _880_       _0_        _0_    NaN  \n",
       "oil                             ?         ?          ?   NaN  \n",
       "bore                          0.0       0.0      500.0   NaN  \n",
       "packing                         ?         ?          ?   NaN  \n",
       "recozimento               mediano   mediano    mediano   NaN  \n",
       "\n",
       "[42 rows x 2424 columns]"
      ],
      "text/html": "<div>\n<style scoped>\n    .dataframe tbody tr th:only-of-type {\n        vertical-align: middle;\n    }\n\n    .dataframe tbody tr th {\n        vertical-align: top;\n    }\n\n    .dataframe thead th {\n        text-align: right;\n    }\n</style>\n<table border=\"1\" class=\"dataframe\">\n  <thead>\n    <tr style=\"text-align: right;\">\n      <th></th>\n      <th>1</th>\n      <th>2</th>\n      <th>3</th>\n      <th>4</th>\n      <th>5</th>\n      <th>6</th>\n      <th>7</th>\n      <th>8</th>\n      <th>9</th>\n      <th>10</th>\n      <th>...</th>\n      <th>2415</th>\n      <th>2416</th>\n      <th>2417</th>\n      <th>2418</th>\n      <th>2419</th>\n      <th>2420</th>\n      <th>2421</th>\n      <th>2422</th>\n      <th>2423</th>\n      <th>2424</th>\n    </tr>\n  </thead>\n  <tbody>\n    <tr>\n      <th>exp_id</th>\n      <td>2</td>\n      <td>1368</td>\n      <td>1130</td>\n      <td>402</td>\n      <td>407</td>\n      <td>1508</td>\n      <td>1393</td>\n      <td>2282</td>\n      <td>1587</td>\n      <td>1349</td>\n      <td>...</td>\n      <td>1708</td>\n      <td>834</td>\n      <td>897</td>\n      <td>1891</td>\n      <td>1526</td>\n      <td>1354</td>\n      <td>1610</td>\n      <td>2243</td>\n      <td>900</td>\n      <td>534</td>\n    </tr>\n    <tr>\n      <th>year</th>\n      <td>2020</td>\n      <td>2020</td>\n      <td>2020</td>\n      <td>2020</td>\n      <td>2020</td>\n      <td>2020</td>\n      <td>2020</td>\n      <td>2020</td>\n      <td>2020</td>\n      <td>2020</td>\n      <td>...</td>\n      <td>2020</td>\n      <td>2020</td>\n      <td>2020</td>\n      <td>2020</td>\n      <td>2020</td>\n      <td>2020</td>\n      <td>2020</td>\n      <td>2020</td>\n      <td>2020</td>\n      <td>2020</td>\n    </tr>\n    <tr>\n      <th>month</th>\n      <td>08</td>\n      <td>08</td>\n      <td>08</td>\n      <td>08</td>\n      <td>08</td>\n      <td>08</td>\n      <td>08</td>\n      <td>08</td>\n      <td>08</td>\n      <td>08</td>\n      <td>...</td>\n      <td>07</td>\n      <td>07</td>\n      <td>07</td>\n      <td>07</td>\n      <td>07</td>\n      <td>07</td>\n      <td>07</td>\n      <td>07</td>\n      <td>07</td>\n      <td>07</td>\n    </tr>\n    <tr>\n      <th>family</th>\n      <td>?</td>\n      <td>?</td>\n      <td>?</td>\n      <td>?</td>\n      <td>?</td>\n      <td>?</td>\n      <td>?</td>\n      <td>?</td>\n      <td>?</td>\n      <td>?</td>\n      <td>...</td>\n      <td>?</td>\n      <td>?</td>\n      <td>TN</td>\n      <td>TN</td>\n      <td>?</td>\n      <td>TN</td>\n      <td>?</td>\n      <td>?</td>\n      <td>?</td>\n      <td>NaN</td>\n    </tr>\n    <tr>\n      <th>product-type</th>\n      <td>C</td>\n      <td>C</td>\n      <td>C</td>\n      <td>C</td>\n      <td>C</td>\n      <td>C</td>\n      <td>C</td>\n      <td>C</td>\n      <td>C</td>\n      <td>C</td>\n      <td>...</td>\n      <td>C</td>\n      <td>C</td>\n      <td>C</td>\n      <td>C</td>\n      <td>C</td>\n      <td>C</td>\n      <td>C</td>\n      <td>C</td>\n      <td>C</td>\n      <td>NaN</td>\n    </tr>\n    <tr>\n      <th>steel</th>\n      <td>R</td>\n      <td>A</td>\n      <td>A</td>\n      <td>A</td>\n      <td>R</td>\n      <td>A</td>\n      <td>R</td>\n      <td>A</td>\n      <td>R</td>\n      <td>R</td>\n      <td>...</td>\n      <td>R</td>\n      <td>K</td>\n      <td>A</td>\n      <td>?</td>\n      <td>R</td>\n      <td>A</td>\n      <td>R</td>\n      <td>A</td>\n      <td>A</td>\n      <td>NaN</td>\n    </tr>\n    <tr>\n      <th>carbon</th>\n      <td>0.0</td>\n      <td>0.0</td>\n      <td>0.0</td>\n      <td>0.0</td>\n      <td>0.0</td>\n      <td>0.0</td>\n      <td>0.0</td>\n      <td>0.0</td>\n      <td>0.0</td>\n      <td>0.0</td>\n      <td>...</td>\n      <td>0.0</td>\n      <td>45.0</td>\n      <td>0.0</td>\n      <td>0.0</td>\n      <td>0.0</td>\n      <td>0.0</td>\n      <td>0.0</td>\n      <td>0.0</td>\n      <td>0.0</td>\n      <td>NaN</td>\n    </tr>\n    <tr>\n      <th>hardness</th>\n      <td>0.0</td>\n      <td>60.0</td>\n      <td>60.0</td>\n      <td>45.0</td>\n      <td>0.0</td>\n      <td>0.0</td>\n      <td>0.0</td>\n      <td>0.0</td>\n      <td>0.0</td>\n      <td>0.0</td>\n      <td>...</td>\n      <td>0.0</td>\n      <td>0.0</td>\n      <td>0.0</td>\n      <td>0.0</td>\n      <td>0.0</td>\n      <td>0.0</td>\n      <td>0.0</td>\n      <td>85.0</td>\n      <td>85.0</td>\n      <td>NaN</td>\n    </tr>\n    <tr>\n      <th>temper_rolling</th>\n      <td>?</td>\n      <td>T</td>\n      <td>T</td>\n      <td>?</td>\n      <td>?</td>\n      <td>?</td>\n      <td>?</td>\n      <td>?</td>\n      <td>?</td>\n      <td>?</td>\n      <td>...</td>\n      <td>?</td>\n      <td>?</td>\n      <td>?</td>\n      <td>?</td>\n      <td>?</td>\n      <td>?</td>\n      <td>?</td>\n      <td>T</td>\n      <td>T</td>\n      <td>NaN</td>\n    </tr>\n    <tr>\n      <th>condition</th>\n      <td>S</td>\n      <td>?</td>\n      <td>?</td>\n      <td>S</td>\n      <td>S</td>\n      <td>S</td>\n      <td>S</td>\n      <td>S</td>\n      <td>S</td>\n      <td>S</td>\n      <td>...</td>\n      <td>S</td>\n      <td>?</td>\n      <td>?</td>\n      <td>A</td>\n      <td>S</td>\n      <td>?</td>\n      <td>S</td>\n      <td>?</td>\n      <td>?</td>\n      <td>NaN</td>\n    </tr>\n    <tr>\n      <th>formability</th>\n      <td>2.0</td>\n      <td>?</td>\n      <td>?</td>\n      <td>?</td>\n      <td>2.0</td>\n      <td>2.0</td>\n      <td>2.0</td>\n      <td>3.0</td>\n      <td>2.0</td>\n      <td>2.0</td>\n      <td>...</td>\n      <td>2.0</td>\n      <td>?</td>\n      <td>3.0</td>\n      <td>1.0</td>\n      <td>2.0</td>\n      <td>3.0</td>\n      <td>3.0</td>\n      <td>?</td>\n      <td>?</td>\n      <td>NaN</td>\n    </tr>\n    <tr>\n      <th>strength</th>\n      <td>0.0</td>\n      <td>0.0</td>\n      <td>0.0</td>\n      <td>0.0</td>\n      <td>0.0</td>\n      <td>0.0</td>\n      <td>0.0</td>\n      <td>0.0</td>\n      <td>0.0</td>\n      <td>0.0</td>\n      <td>...</td>\n      <td>0.0</td>\n      <td>0.0</td>\n      <td>0.0</td>\n      <td>0.0</td>\n      <td>0.0</td>\n      <td>0.0</td>\n      <td>0.0</td>\n      <td>0.0</td>\n      <td>0.0</td>\n      <td>NaN</td>\n    </tr>\n    <tr>\n      <th>non-ageing</th>\n      <td>?</td>\n      <td>?</td>\n      <td>?</td>\n      <td>?</td>\n      <td>?</td>\n      <td>?</td>\n      <td>?</td>\n      <td>N</td>\n      <td>?</td>\n      <td>?</td>\n      <td>...</td>\n      <td>?</td>\n      <td>?</td>\n      <td>N</td>\n      <td>?</td>\n      <td>?</td>\n      <td>N</td>\n      <td>?</td>\n      <td>?</td>\n      <td>?</td>\n      <td>NaN</td>\n    </tr>\n    <tr>\n      <th>surface-finish</th>\n      <td>?</td>\n      <td>?</td>\n      <td>?</td>\n      <td>?</td>\n      <td>?</td>\n      <td>?</td>\n      <td>?</td>\n      <td>?</td>\n      <td>?</td>\n      <td>?</td>\n      <td>...</td>\n      <td>?</td>\n      <td>?</td>\n      <td>?</td>\n      <td>?</td>\n      <td>?</td>\n      <td>?</td>\n      <td>?</td>\n      <td>?</td>\n      <td>?</td>\n      <td>NaN</td>\n    </tr>\n    <tr>\n      <th>surface-quality</th>\n      <td>E</td>\n      <td>G</td>\n      <td>G</td>\n      <td>D</td>\n      <td>E</td>\n      <td>E</td>\n      <td>E</td>\n      <td>E</td>\n      <td>E</td>\n      <td>E</td>\n      <td>...</td>\n      <td>E</td>\n      <td>?</td>\n      <td>?</td>\n      <td>?</td>\n      <td>?</td>\n      <td>?</td>\n      <td>?</td>\n      <td>G</td>\n      <td>G</td>\n      <td>NaN</td>\n    </tr>\n    <tr>\n      <th>enamelability</th>\n      <td>?</td>\n      <td>?</td>\n      <td>?</td>\n      <td>?</td>\n      <td>?</td>\n      <td>?</td>\n      <td>?</td>\n      <td>?</td>\n      <td>?</td>\n      <td>?</td>\n      <td>...</td>\n      <td>?</td>\n      <td>?</td>\n      <td>?</td>\n      <td>?</td>\n      <td>?</td>\n      <td>?</td>\n      <td>?</td>\n      <td>?</td>\n      <td>?</td>\n      <td>NaN</td>\n    </tr>\n    <tr>\n      <th>bc</th>\n      <td>?</td>\n      <td>?</td>\n      <td>?</td>\n      <td>?</td>\n      <td>?</td>\n      <td>?</td>\n      <td>?</td>\n      <td>?</td>\n      <td>?</td>\n      <td>?</td>\n      <td>...</td>\n      <td>?</td>\n      <td>?</td>\n      <td>?</td>\n      <td>?</td>\n      <td>?</td>\n      <td>?</td>\n      <td>?</td>\n      <td>?</td>\n      <td>?</td>\n      <td>NaN</td>\n    </tr>\n    <tr>\n      <th>bf</th>\n      <td>Y</td>\n      <td>?</td>\n      <td>?</td>\n      <td>?</td>\n      <td>?</td>\n      <td>?</td>\n      <td>?</td>\n      <td>?</td>\n      <td>?</td>\n      <td>?</td>\n      <td>...</td>\n      <td>?</td>\n      <td>?</td>\n      <td>?</td>\n      <td>?</td>\n      <td>?</td>\n      <td>?</td>\n      <td>?</td>\n      <td>?</td>\n      <td>?</td>\n      <td>NaN</td>\n    </tr>\n    <tr>\n      <th>bt</th>\n      <td>?</td>\n      <td>?</td>\n      <td>?</td>\n      <td>?</td>\n      <td>?</td>\n      <td>?</td>\n      <td>?</td>\n      <td>?</td>\n      <td>?</td>\n      <td>?</td>\n      <td>...</td>\n      <td>?</td>\n      <td>Y</td>\n      <td>?</td>\n      <td>?</td>\n      <td>?</td>\n      <td>?</td>\n      <td>?</td>\n      <td>?</td>\n      <td>Y</td>\n      <td>NaN</td>\n    </tr>\n    <tr>\n      <th>bw/me</th>\n      <td>B</td>\n      <td>M</td>\n      <td>B</td>\n      <td>?</td>\n      <td>?</td>\n      <td>?</td>\n      <td>?</td>\n      <td>?</td>\n      <td>?</td>\n      <td>?</td>\n      <td>...</td>\n      <td>?</td>\n      <td>M</td>\n      <td>B</td>\n      <td>?</td>\n      <td>?</td>\n      <td>?</td>\n      <td>?</td>\n      <td>?</td>\n      <td>M</td>\n      <td>NaN</td>\n    </tr>\n    <tr>\n      <th>bl</th>\n      <td>?</td>\n      <td>?</td>\n      <td>Y</td>\n      <td>?</td>\n      <td>Y</td>\n      <td>?</td>\n      <td>?</td>\n      <td>?</td>\n      <td>?</td>\n      <td>Y</td>\n      <td>...</td>\n      <td>Y</td>\n      <td>?</td>\n      <td>?</td>\n      <td>?</td>\n      <td>Y</td>\n      <td>?</td>\n      <td>?</td>\n      <td>?</td>\n      <td>?</td>\n      <td>NaN</td>\n    </tr>\n    <tr>\n      <th>m</th>\n      <td>?</td>\n      <td>?</td>\n      <td>?</td>\n      <td>?</td>\n      <td>?</td>\n      <td>?</td>\n      <td>?</td>\n      <td>?</td>\n      <td>?</td>\n      <td>?</td>\n      <td>...</td>\n      <td>?</td>\n      <td>?</td>\n      <td>?</td>\n      <td>?</td>\n      <td>?</td>\n      <td>?</td>\n      <td>?</td>\n      <td>?</td>\n      <td>?</td>\n      <td>NaN</td>\n    </tr>\n    <tr>\n      <th>chrom</th>\n      <td>?</td>\n      <td>?</td>\n      <td>?</td>\n      <td>?</td>\n      <td>?</td>\n      <td>?</td>\n      <td>?</td>\n      <td>?</td>\n      <td>?</td>\n      <td>?</td>\n      <td>...</td>\n      <td>?</td>\n      <td>?</td>\n      <td>?</td>\n      <td>?</td>\n      <td>?</td>\n      <td>C</td>\n      <td>?</td>\n      <td>?</td>\n      <td>?</td>\n      <td>NaN</td>\n    </tr>\n    <tr>\n      <th>phos</th>\n      <td>?</td>\n      <td>?</td>\n      <td>?</td>\n      <td>?</td>\n      <td>?</td>\n      <td>?</td>\n      <td>?</td>\n      <td>?</td>\n      <td>?</td>\n      <td>?</td>\n      <td>...</td>\n      <td>?</td>\n      <td>?</td>\n      <td>?</td>\n      <td>?</td>\n      <td>?</td>\n      <td>?</td>\n      <td>?</td>\n      <td>?</td>\n      <td>?</td>\n      <td>NaN</td>\n    </tr>\n    <tr>\n      <th>cbond</th>\n      <td>?</td>\n      <td>?</td>\n      <td>Y</td>\n      <td>?</td>\n      <td>?</td>\n      <td>?</td>\n      <td>?</td>\n      <td>?</td>\n      <td>?</td>\n      <td>?</td>\n      <td>...</td>\n      <td>?</td>\n      <td>?</td>\n      <td>?</td>\n      <td>?</td>\n      <td>?</td>\n      <td>?</td>\n      <td>?</td>\n      <td>?</td>\n      <td>?</td>\n      <td>NaN</td>\n    </tr>\n    <tr>\n      <th>marvi</th>\n      <td>?</td>\n      <td>?</td>\n      <td>?</td>\n      <td>?</td>\n      <td>?</td>\n      <td>?</td>\n      <td>?</td>\n      <td>?</td>\n      <td>?</td>\n      <td>?</td>\n      <td>...</td>\n      <td>?</td>\n      <td>?</td>\n      <td>?</td>\n      <td>?</td>\n      <td>?</td>\n      <td>?</td>\n      <td>?</td>\n      <td>?</td>\n      <td>?</td>\n      <td>NaN</td>\n    </tr>\n    <tr>\n      <th>exptl</th>\n      <td>?</td>\n      <td>?</td>\n      <td>?</td>\n      <td>?</td>\n      <td>?</td>\n      <td>?</td>\n      <td>?</td>\n      <td>?</td>\n      <td>?</td>\n      <td>?</td>\n      <td>...</td>\n      <td>?</td>\n      <td>?</td>\n      <td>?</td>\n      <td>?</td>\n      <td>?</td>\n      <td>?</td>\n      <td>?</td>\n      <td>?</td>\n      <td>?</td>\n      <td>NaN</td>\n    </tr>\n    <tr>\n      <th>ferro</th>\n      <td>?</td>\n      <td>?</td>\n      <td>?</td>\n      <td>?</td>\n      <td>?</td>\n      <td>?</td>\n      <td>?</td>\n      <td>?</td>\n      <td>?</td>\n      <td>?</td>\n      <td>...</td>\n      <td>?</td>\n      <td>?</td>\n      <td>Y</td>\n      <td>Y</td>\n      <td>?</td>\n      <td>?</td>\n      <td>?</td>\n      <td>?</td>\n      <td>?</td>\n      <td>NaN</td>\n    </tr>\n    <tr>\n      <th>corr</th>\n      <td>?</td>\n      <td>?</td>\n      <td>?</td>\n      <td>?</td>\n      <td>?</td>\n      <td>?</td>\n      <td>?</td>\n      <td>?</td>\n      <td>?</td>\n      <td>?</td>\n      <td>...</td>\n      <td>?</td>\n      <td>?</td>\n      <td>?</td>\n      <td>?</td>\n      <td>?</td>\n      <td>?</td>\n      <td>?</td>\n      <td>?</td>\n      <td>?</td>\n      <td>NaN</td>\n    </tr>\n    <tr>\n      <th>blue/bright/varn/clean</th>\n      <td>?</td>\n      <td>?</td>\n      <td>?</td>\n      <td>?</td>\n      <td>?</td>\n      <td>?</td>\n      <td>?</td>\n      <td>?</td>\n      <td>?</td>\n      <td>?</td>\n      <td>...</td>\n      <td>?</td>\n      <td>?</td>\n      <td>?</td>\n      <td>?</td>\n      <td>?</td>\n      <td>?</td>\n      <td>?</td>\n      <td>?</td>\n      <td>?</td>\n      <td>NaN</td>\n    </tr>\n    <tr>\n      <th>lustre</th>\n      <td>?</td>\n      <td>?</td>\n      <td>?</td>\n      <td>?</td>\n      <td>?</td>\n      <td>Y</td>\n      <td>Y</td>\n      <td>?</td>\n      <td>?</td>\n      <td>?</td>\n      <td>...</td>\n      <td>?</td>\n      <td>?</td>\n      <td>?</td>\n      <td>?</td>\n      <td>?</td>\n      <td>?</td>\n      <td>?</td>\n      <td>?</td>\n      <td>?</td>\n      <td>NaN</td>\n    </tr>\n    <tr>\n      <th>jurofm</th>\n      <td>?</td>\n      <td>?</td>\n      <td>?</td>\n      <td>?</td>\n      <td>?</td>\n      <td>?</td>\n      <td>?</td>\n      <td>?</td>\n      <td>?</td>\n      <td>?</td>\n      <td>...</td>\n      <td>?</td>\n      <td>?</td>\n      <td>?</td>\n      <td>?</td>\n      <td>?</td>\n      <td>?</td>\n      <td>?</td>\n      <td>?</td>\n      <td>?</td>\n      <td>NaN</td>\n    </tr>\n    <tr>\n      <th>s</th>\n      <td>?</td>\n      <td>?</td>\n      <td>?</td>\n      <td>?</td>\n      <td>?</td>\n      <td>?</td>\n      <td>?</td>\n      <td>?</td>\n      <td>?</td>\n      <td>?</td>\n      <td>...</td>\n      <td>?</td>\n      <td>?</td>\n      <td>?</td>\n      <td>?</td>\n      <td>?</td>\n      <td>?</td>\n      <td>?</td>\n      <td>?</td>\n      <td>?</td>\n      <td>NaN</td>\n    </tr>\n    <tr>\n      <th>p</th>\n      <td>?</td>\n      <td>?</td>\n      <td>?</td>\n      <td>?</td>\n      <td>?</td>\n      <td>?</td>\n      <td>?</td>\n      <td>?</td>\n      <td>?</td>\n      <td>?</td>\n      <td>...</td>\n      <td>?</td>\n      <td>?</td>\n      <td>?</td>\n      <td>?</td>\n      <td>?</td>\n      <td>?</td>\n      <td>?</td>\n      <td>?</td>\n      <td>?</td>\n      <td>NaN</td>\n    </tr>\n    <tr>\n      <th>shape</th>\n      <td>SHEET</td>\n      <td>COIL</td>\n      <td>SHEET</td>\n      <td>COIL</td>\n      <td>SHEET</td>\n      <td>COIL</td>\n      <td>COIL</td>\n      <td>SHEET</td>\n      <td>COIL</td>\n      <td>SHEET</td>\n      <td>...</td>\n      <td>COIL</td>\n      <td>COIL</td>\n      <td>SHEET</td>\n      <td>SHEET</td>\n      <td>SHEET</td>\n      <td>SHEET</td>\n      <td>SHEET</td>\n      <td>COIL</td>\n      <td>COIL</td>\n      <td>NaN</td>\n    </tr>\n    <tr>\n      <th>thick</th>\n      <td>_0.7_</td>\n      <td>_2.801_</td>\n      <td>_0.801_</td>\n      <td>_1.6_</td>\n      <td>_0.699_</td>\n      <td>_3.3_</td>\n      <td>_0.699_</td>\n      <td>_1.0_</td>\n      <td>_1.2_</td>\n      <td>_0.3_</td>\n      <td>...</td>\n      <td>_3.2_</td>\n      <td>_3.2_</td>\n      <td>_1.6_</td>\n      <td>_1.6_</td>\n      <td>_1.6_</td>\n      <td>_1.2_</td>\n      <td>_1.601_</td>\n      <td>_0.4_</td>\n      <td>_4.0_</td>\n      <td>NaN</td>\n    </tr>\n    <tr>\n      <th>width</th>\n      <td>_1300.0_</td>\n      <td>_385.1_</td>\n      <td>_255.0_</td>\n      <td>_610.0_</td>\n      <td>_610.0_</td>\n      <td>_152.0_</td>\n      <td>_1320.0_</td>\n      <td>_1320.0_</td>\n      <td>_610.0_</td>\n      <td>_1320.0_</td>\n      <td>...</td>\n      <td>_1320.0_</td>\n      <td>_640.0_</td>\n      <td>_609.9_</td>\n      <td>_609.9_</td>\n      <td>_1500.0_</td>\n      <td>_609.9_</td>\n      <td>_830.0_</td>\n      <td>_20.0_</td>\n      <td>_610.0_</td>\n      <td>NaN</td>\n    </tr>\n    <tr>\n      <th>len</th>\n      <td>_762_</td>\n      <td>_0_</td>\n      <td>_269_</td>\n      <td>_0_</td>\n      <td>_4880_</td>\n      <td>_0_</td>\n      <td>_0_</td>\n      <td>_762_</td>\n      <td>_0_</td>\n      <td>_4880_</td>\n      <td>...</td>\n      <td>_0_</td>\n      <td>_0_</td>\n      <td>_3000_</td>\n      <td>_612_</td>\n      <td>_4170_</td>\n      <td>_1_</td>\n      <td>_880_</td>\n      <td>_0_</td>\n      <td>_0_</td>\n      <td>NaN</td>\n    </tr>\n    <tr>\n      <th>oil</th>\n      <td>?</td>\n      <td>?</td>\n      <td>?</td>\n      <td>?</td>\n      <td>Y</td>\n      <td>?</td>\n      <td>?</td>\n      <td>?</td>\n      <td>?</td>\n      <td>Y</td>\n      <td>...</td>\n      <td>?</td>\n      <td>?</td>\n      <td>?</td>\n      <td>?</td>\n      <td>?</td>\n      <td>?</td>\n      <td>?</td>\n      <td>?</td>\n      <td>?</td>\n      <td>NaN</td>\n    </tr>\n    <tr>\n      <th>bore</th>\n      <td>0.0</td>\n      <td>0.0</td>\n      <td>0.0</td>\n      <td>0.0</td>\n      <td>0.0</td>\n      <td>0.0</td>\n      <td>0.0</td>\n      <td>0.0</td>\n      <td>0.0</td>\n      <td>0.0</td>\n      <td>...</td>\n      <td>0.0</td>\n      <td>500.0</td>\n      <td>0.0</td>\n      <td>0.0</td>\n      <td>0.0</td>\n      <td>0.0</td>\n      <td>0.0</td>\n      <td>0.0</td>\n      <td>500.0</td>\n      <td>NaN</td>\n    </tr>\n    <tr>\n      <th>packing</th>\n      <td>?</td>\n      <td>?</td>\n      <td>?</td>\n      <td>?</td>\n      <td>?</td>\n      <td>?</td>\n      <td>?</td>\n      <td>?</td>\n      <td>?</td>\n      <td>?</td>\n      <td>...</td>\n      <td>?</td>\n      <td>?</td>\n      <td>?</td>\n      <td>?</td>\n      <td>?</td>\n      <td>?</td>\n      <td>?</td>\n      <td>?</td>\n      <td>?</td>\n      <td>NaN</td>\n    </tr>\n    <tr>\n      <th>recozimento</th>\n      <td>ruim</td>\n      <td>ideal</td>\n      <td>ideal</td>\n      <td>mediano</td>\n      <td>ruim</td>\n      <td>ruim</td>\n      <td>mediano</td>\n      <td>ruim</td>\n      <td>ruim</td>\n      <td>ruim</td>\n      <td>...</td>\n      <td>mediano</td>\n      <td>mediano</td>\n      <td>mediano</td>\n      <td>mediano</td>\n      <td>mediano</td>\n      <td>mediano</td>\n      <td>mediano</td>\n      <td>mediano</td>\n      <td>mediano</td>\n      <td>NaN</td>\n    </tr>\n  </tbody>\n</table>\n<p>42 rows × 2424 columns</p>\n</div>"
     },
     "metadata": {},
     "execution_count": 465
    }
   ],
   "source": [
    "dados.transpose()"
   ]
  },
  {
   "cell_type": "code",
   "execution_count": 466,
   "metadata": {},
   "outputs": [
    {
     "output_type": "execute_result",
     "data": {
      "text/plain": [
       "     exp_id  year month family product-type steel  carbon  hardness  \\\n",
       "1         2  2020    08      ?            C     R     0.0       0.0   \n",
       "2      1368  2020    08      ?            C     A     0.0      60.0   \n",
       "3      1130  2020    08      ?            C     A     0.0      60.0   \n",
       "4       402  2020    08      ?            C     A     0.0      45.0   \n",
       "5       407  2020    08      ?            C     R     0.0       0.0   \n",
       "...     ...   ...   ...    ...          ...   ...     ...       ...   \n",
       "2420   1354  2020    07     TN            C     A     0.0       0.0   \n",
       "2421   1610  2020    07      ?            C     R     0.0       0.0   \n",
       "2422   2243  2020    07      ?            C     A     0.0      85.0   \n",
       "2423    900  2020    07      ?            C     A     0.0      85.0   \n",
       "2424    534  2020    07    NaN          NaN   NaN     NaN       NaN   \n",
       "\n",
       "     temper_rolling condition  ...    s    p  shape    thick     width  \\\n",
       "1                 ?         S  ...    ?    ?  SHEET     0.7    1300.0    \n",
       "2                 T         ?  ...    ?    ?   COIL   2.801     385.1    \n",
       "3                 T         ?  ...    ?    ?  SHEET   0.801     255.0    \n",
       "4                 ?         S  ...    ?    ?   COIL     1.6     610.0    \n",
       "5                 ?         S  ...    ?    ?  SHEET   0.699     610.0    \n",
       "...             ...       ...  ...  ...  ...    ...      ...       ...   \n",
       "2420              ?         ?  ...    ?    ?  SHEET     1.2     609.9    \n",
       "2421              ?         S  ...    ?    ?  SHEET   1.601     830.0    \n",
       "2422              T         ?  ...    ?    ?   COIL     0.4      20.0    \n",
       "2423              T         ?  ...    ?    ?   COIL     4.0     610.0    \n",
       "2424            NaN       NaN  ...  NaN  NaN    NaN      NaN       NaN   \n",
       "\n",
       "         len  oil   bore packing recozimento  \n",
       "1       762     ?    0.0       ?        ruim  \n",
       "2         0     ?    0.0       ?       ideal  \n",
       "3       269     ?    0.0       ?       ideal  \n",
       "4         0     ?    0.0       ?     mediano  \n",
       "5      4880     Y    0.0       ?        ruim  \n",
       "...      ...  ...    ...     ...         ...  \n",
       "2420      1     ?    0.0       ?     mediano  \n",
       "2421    880     ?    0.0       ?     mediano  \n",
       "2422      0     ?    0.0       ?     mediano  \n",
       "2423      0     ?  500.0       ?     mediano  \n",
       "2424     NaN  NaN    NaN     NaN         NaN  \n",
       "\n",
       "[2424 rows x 42 columns]"
      ],
      "text/html": "<div>\n<style scoped>\n    .dataframe tbody tr th:only-of-type {\n        vertical-align: middle;\n    }\n\n    .dataframe tbody tr th {\n        vertical-align: top;\n    }\n\n    .dataframe thead th {\n        text-align: right;\n    }\n</style>\n<table border=\"1\" class=\"dataframe\">\n  <thead>\n    <tr style=\"text-align: right;\">\n      <th></th>\n      <th>exp_id</th>\n      <th>year</th>\n      <th>month</th>\n      <th>family</th>\n      <th>product-type</th>\n      <th>steel</th>\n      <th>carbon</th>\n      <th>hardness</th>\n      <th>temper_rolling</th>\n      <th>condition</th>\n      <th>...</th>\n      <th>s</th>\n      <th>p</th>\n      <th>shape</th>\n      <th>thick</th>\n      <th>width</th>\n      <th>len</th>\n      <th>oil</th>\n      <th>bore</th>\n      <th>packing</th>\n      <th>recozimento</th>\n    </tr>\n  </thead>\n  <tbody>\n    <tr>\n      <th>1</th>\n      <td>2</td>\n      <td>2020</td>\n      <td>08</td>\n      <td>?</td>\n      <td>C</td>\n      <td>R</td>\n      <td>0.0</td>\n      <td>0.0</td>\n      <td>?</td>\n      <td>S</td>\n      <td>...</td>\n      <td>?</td>\n      <td>?</td>\n      <td>SHEET</td>\n      <td>0.7</td>\n      <td>1300.0</td>\n      <td>762</td>\n      <td>?</td>\n      <td>0.0</td>\n      <td>?</td>\n      <td>ruim</td>\n    </tr>\n    <tr>\n      <th>2</th>\n      <td>1368</td>\n      <td>2020</td>\n      <td>08</td>\n      <td>?</td>\n      <td>C</td>\n      <td>A</td>\n      <td>0.0</td>\n      <td>60.0</td>\n      <td>T</td>\n      <td>?</td>\n      <td>...</td>\n      <td>?</td>\n      <td>?</td>\n      <td>COIL</td>\n      <td>2.801</td>\n      <td>385.1</td>\n      <td>0</td>\n      <td>?</td>\n      <td>0.0</td>\n      <td>?</td>\n      <td>ideal</td>\n    </tr>\n    <tr>\n      <th>3</th>\n      <td>1130</td>\n      <td>2020</td>\n      <td>08</td>\n      <td>?</td>\n      <td>C</td>\n      <td>A</td>\n      <td>0.0</td>\n      <td>60.0</td>\n      <td>T</td>\n      <td>?</td>\n      <td>...</td>\n      <td>?</td>\n      <td>?</td>\n      <td>SHEET</td>\n      <td>0.801</td>\n      <td>255.0</td>\n      <td>269</td>\n      <td>?</td>\n      <td>0.0</td>\n      <td>?</td>\n      <td>ideal</td>\n    </tr>\n    <tr>\n      <th>4</th>\n      <td>402</td>\n      <td>2020</td>\n      <td>08</td>\n      <td>?</td>\n      <td>C</td>\n      <td>A</td>\n      <td>0.0</td>\n      <td>45.0</td>\n      <td>?</td>\n      <td>S</td>\n      <td>...</td>\n      <td>?</td>\n      <td>?</td>\n      <td>COIL</td>\n      <td>1.6</td>\n      <td>610.0</td>\n      <td>0</td>\n      <td>?</td>\n      <td>0.0</td>\n      <td>?</td>\n      <td>mediano</td>\n    </tr>\n    <tr>\n      <th>5</th>\n      <td>407</td>\n      <td>2020</td>\n      <td>08</td>\n      <td>?</td>\n      <td>C</td>\n      <td>R</td>\n      <td>0.0</td>\n      <td>0.0</td>\n      <td>?</td>\n      <td>S</td>\n      <td>...</td>\n      <td>?</td>\n      <td>?</td>\n      <td>SHEET</td>\n      <td>0.699</td>\n      <td>610.0</td>\n      <td>4880</td>\n      <td>Y</td>\n      <td>0.0</td>\n      <td>?</td>\n      <td>ruim</td>\n    </tr>\n    <tr>\n      <th>...</th>\n      <td>...</td>\n      <td>...</td>\n      <td>...</td>\n      <td>...</td>\n      <td>...</td>\n      <td>...</td>\n      <td>...</td>\n      <td>...</td>\n      <td>...</td>\n      <td>...</td>\n      <td>...</td>\n      <td>...</td>\n      <td>...</td>\n      <td>...</td>\n      <td>...</td>\n      <td>...</td>\n      <td>...</td>\n      <td>...</td>\n      <td>...</td>\n      <td>...</td>\n      <td>...</td>\n    </tr>\n    <tr>\n      <th>2420</th>\n      <td>1354</td>\n      <td>2020</td>\n      <td>07</td>\n      <td>TN</td>\n      <td>C</td>\n      <td>A</td>\n      <td>0.0</td>\n      <td>0.0</td>\n      <td>?</td>\n      <td>?</td>\n      <td>...</td>\n      <td>?</td>\n      <td>?</td>\n      <td>SHEET</td>\n      <td>1.2</td>\n      <td>609.9</td>\n      <td>1</td>\n      <td>?</td>\n      <td>0.0</td>\n      <td>?</td>\n      <td>mediano</td>\n    </tr>\n    <tr>\n      <th>2421</th>\n      <td>1610</td>\n      <td>2020</td>\n      <td>07</td>\n      <td>?</td>\n      <td>C</td>\n      <td>R</td>\n      <td>0.0</td>\n      <td>0.0</td>\n      <td>?</td>\n      <td>S</td>\n      <td>...</td>\n      <td>?</td>\n      <td>?</td>\n      <td>SHEET</td>\n      <td>1.601</td>\n      <td>830.0</td>\n      <td>880</td>\n      <td>?</td>\n      <td>0.0</td>\n      <td>?</td>\n      <td>mediano</td>\n    </tr>\n    <tr>\n      <th>2422</th>\n      <td>2243</td>\n      <td>2020</td>\n      <td>07</td>\n      <td>?</td>\n      <td>C</td>\n      <td>A</td>\n      <td>0.0</td>\n      <td>85.0</td>\n      <td>T</td>\n      <td>?</td>\n      <td>...</td>\n      <td>?</td>\n      <td>?</td>\n      <td>COIL</td>\n      <td>0.4</td>\n      <td>20.0</td>\n      <td>0</td>\n      <td>?</td>\n      <td>0.0</td>\n      <td>?</td>\n      <td>mediano</td>\n    </tr>\n    <tr>\n      <th>2423</th>\n      <td>900</td>\n      <td>2020</td>\n      <td>07</td>\n      <td>?</td>\n      <td>C</td>\n      <td>A</td>\n      <td>0.0</td>\n      <td>85.0</td>\n      <td>T</td>\n      <td>?</td>\n      <td>...</td>\n      <td>?</td>\n      <td>?</td>\n      <td>COIL</td>\n      <td>4.0</td>\n      <td>610.0</td>\n      <td>0</td>\n      <td>?</td>\n      <td>500.0</td>\n      <td>?</td>\n      <td>mediano</td>\n    </tr>\n    <tr>\n      <th>2424</th>\n      <td>534</td>\n      <td>2020</td>\n      <td>07</td>\n      <td>NaN</td>\n      <td>NaN</td>\n      <td>NaN</td>\n      <td>NaN</td>\n      <td>NaN</td>\n      <td>NaN</td>\n      <td>NaN</td>\n      <td>...</td>\n      <td>NaN</td>\n      <td>NaN</td>\n      <td>NaN</td>\n      <td>NaN</td>\n      <td>NaN</td>\n      <td>NaN</td>\n      <td>NaN</td>\n      <td>NaN</td>\n      <td>NaN</td>\n      <td>NaN</td>\n    </tr>\n  </tbody>\n</table>\n<p>2424 rows × 42 columns</p>\n</div>"
     },
     "metadata": {},
     "execution_count": 466
    }
   ],
   "source": [
    "dados[\"thick\"] = dados[\"thick\"].replace(to_replace =\"_\", value = '', regex = True)\n",
    "dados[\"width\"] = dados[\"width\"].replace(to_replace =\"_\", value = '', regex = True)\n",
    "dados[\"len\"] = dados[\"len\"].replace(to_replace =\"_\", value = '', regex = True)\n",
    "dados"
   ]
  },
  {
   "cell_type": "code",
   "execution_count": 467,
   "metadata": {},
   "outputs": [
    {
     "output_type": "execute_result",
     "data": {
      "text/plain": [
       "   exp_id   year  month  family  product-type  steel  carbon  hardness  \\\n",
       "1   False  False  False   False         False  False   False     False   \n",
       "2   False  False  False   False         False  False   False     False   \n",
       "3   False  False  False   False         False  False   False     False   \n",
       "4   False  False  False   False         False  False   False     False   \n",
       "5   False  False  False   False         False  False   False     False   \n",
       "\n",
       "   temper_rolling  condition  ...      s      p  shape  thick  width    len  \\\n",
       "1           False      False  ...  False  False  False  False  False  False   \n",
       "2           False      False  ...  False  False  False  False  False  False   \n",
       "3           False      False  ...  False  False  False  False  False  False   \n",
       "4           False      False  ...  False  False  False  False  False  False   \n",
       "5           False      False  ...  False  False  False  False  False  False   \n",
       "\n",
       "     oil   bore  packing  recozimento  \n",
       "1  False  False    False        False  \n",
       "2  False  False    False        False  \n",
       "3  False  False    False        False  \n",
       "4  False  False    False        False  \n",
       "5  False  False    False        False  \n",
       "\n",
       "[5 rows x 42 columns]"
      ],
      "text/html": "<div>\n<style scoped>\n    .dataframe tbody tr th:only-of-type {\n        vertical-align: middle;\n    }\n\n    .dataframe tbody tr th {\n        vertical-align: top;\n    }\n\n    .dataframe thead th {\n        text-align: right;\n    }\n</style>\n<table border=\"1\" class=\"dataframe\">\n  <thead>\n    <tr style=\"text-align: right;\">\n      <th></th>\n      <th>exp_id</th>\n      <th>year</th>\n      <th>month</th>\n      <th>family</th>\n      <th>product-type</th>\n      <th>steel</th>\n      <th>carbon</th>\n      <th>hardness</th>\n      <th>temper_rolling</th>\n      <th>condition</th>\n      <th>...</th>\n      <th>s</th>\n      <th>p</th>\n      <th>shape</th>\n      <th>thick</th>\n      <th>width</th>\n      <th>len</th>\n      <th>oil</th>\n      <th>bore</th>\n      <th>packing</th>\n      <th>recozimento</th>\n    </tr>\n  </thead>\n  <tbody>\n    <tr>\n      <th>1</th>\n      <td>False</td>\n      <td>False</td>\n      <td>False</td>\n      <td>False</td>\n      <td>False</td>\n      <td>False</td>\n      <td>False</td>\n      <td>False</td>\n      <td>False</td>\n      <td>False</td>\n      <td>...</td>\n      <td>False</td>\n      <td>False</td>\n      <td>False</td>\n      <td>False</td>\n      <td>False</td>\n      <td>False</td>\n      <td>False</td>\n      <td>False</td>\n      <td>False</td>\n      <td>False</td>\n    </tr>\n    <tr>\n      <th>2</th>\n      <td>False</td>\n      <td>False</td>\n      <td>False</td>\n      <td>False</td>\n      <td>False</td>\n      <td>False</td>\n      <td>False</td>\n      <td>False</td>\n      <td>False</td>\n      <td>False</td>\n      <td>...</td>\n      <td>False</td>\n      <td>False</td>\n      <td>False</td>\n      <td>False</td>\n      <td>False</td>\n      <td>False</td>\n      <td>False</td>\n      <td>False</td>\n      <td>False</td>\n      <td>False</td>\n    </tr>\n    <tr>\n      <th>3</th>\n      <td>False</td>\n      <td>False</td>\n      <td>False</td>\n      <td>False</td>\n      <td>False</td>\n      <td>False</td>\n      <td>False</td>\n      <td>False</td>\n      <td>False</td>\n      <td>False</td>\n      <td>...</td>\n      <td>False</td>\n      <td>False</td>\n      <td>False</td>\n      <td>False</td>\n      <td>False</td>\n      <td>False</td>\n      <td>False</td>\n      <td>False</td>\n      <td>False</td>\n      <td>False</td>\n    </tr>\n    <tr>\n      <th>4</th>\n      <td>False</td>\n      <td>False</td>\n      <td>False</td>\n      <td>False</td>\n      <td>False</td>\n      <td>False</td>\n      <td>False</td>\n      <td>False</td>\n      <td>False</td>\n      <td>False</td>\n      <td>...</td>\n      <td>False</td>\n      <td>False</td>\n      <td>False</td>\n      <td>False</td>\n      <td>False</td>\n      <td>False</td>\n      <td>False</td>\n      <td>False</td>\n      <td>False</td>\n      <td>False</td>\n    </tr>\n    <tr>\n      <th>5</th>\n      <td>False</td>\n      <td>False</td>\n      <td>False</td>\n      <td>False</td>\n      <td>False</td>\n      <td>False</td>\n      <td>False</td>\n      <td>False</td>\n      <td>False</td>\n      <td>False</td>\n      <td>...</td>\n      <td>False</td>\n      <td>False</td>\n      <td>False</td>\n      <td>False</td>\n      <td>False</td>\n      <td>False</td>\n      <td>False</td>\n      <td>False</td>\n      <td>False</td>\n      <td>False</td>\n    </tr>\n  </tbody>\n</table>\n<p>5 rows × 42 columns</p>\n</div>"
     },
     "metadata": {},
     "execution_count": 467
    }
   ],
   "source": [
    "missing_data=dados.isnull()\n",
    "missing_data.head()"
   ]
  },
  {
   "cell_type": "code",
   "execution_count": 468,
   "metadata": {},
   "outputs": [
    {
     "output_type": "execute_result",
     "data": {
      "text/plain": [
       "  exp_id  year month family product-type steel  carbon  hardness  \\\n",
       "1      2  2020    08    NaN            C     R     0.0       0.0   \n",
       "2   1368  2020    08    NaN            C     A     0.0      60.0   \n",
       "3   1130  2020    08    NaN            C     A     0.0      60.0   \n",
       "4    402  2020    08    NaN            C     A     0.0      45.0   \n",
       "5    407  2020    08    NaN            C     R     0.0       0.0   \n",
       "\n",
       "  temper_rolling condition  ...   s   p  shape    thick     width     len  \\\n",
       "1            NaN         S  ... NaN NaN  SHEET     0.7    1300.0     762    \n",
       "2              T       NaN  ... NaN NaN   COIL   2.801     385.1       0    \n",
       "3              T       NaN  ... NaN NaN  SHEET   0.801     255.0     269    \n",
       "4            NaN         S  ... NaN NaN   COIL     1.6     610.0       0    \n",
       "5            NaN         S  ... NaN NaN  SHEET   0.699     610.0    4880    \n",
       "\n",
       "   oil bore packing recozimento  \n",
       "1  NaN  0.0     NaN        ruim  \n",
       "2  NaN  0.0     NaN       ideal  \n",
       "3  NaN  0.0     NaN       ideal  \n",
       "4  NaN  0.0     NaN     mediano  \n",
       "5    Y  0.0     NaN        ruim  \n",
       "\n",
       "[5 rows x 42 columns]"
      ],
      "text/html": "<div>\n<style scoped>\n    .dataframe tbody tr th:only-of-type {\n        vertical-align: middle;\n    }\n\n    .dataframe tbody tr th {\n        vertical-align: top;\n    }\n\n    .dataframe thead th {\n        text-align: right;\n    }\n</style>\n<table border=\"1\" class=\"dataframe\">\n  <thead>\n    <tr style=\"text-align: right;\">\n      <th></th>\n      <th>exp_id</th>\n      <th>year</th>\n      <th>month</th>\n      <th>family</th>\n      <th>product-type</th>\n      <th>steel</th>\n      <th>carbon</th>\n      <th>hardness</th>\n      <th>temper_rolling</th>\n      <th>condition</th>\n      <th>...</th>\n      <th>s</th>\n      <th>p</th>\n      <th>shape</th>\n      <th>thick</th>\n      <th>width</th>\n      <th>len</th>\n      <th>oil</th>\n      <th>bore</th>\n      <th>packing</th>\n      <th>recozimento</th>\n    </tr>\n  </thead>\n  <tbody>\n    <tr>\n      <th>1</th>\n      <td>2</td>\n      <td>2020</td>\n      <td>08</td>\n      <td>NaN</td>\n      <td>C</td>\n      <td>R</td>\n      <td>0.0</td>\n      <td>0.0</td>\n      <td>NaN</td>\n      <td>S</td>\n      <td>...</td>\n      <td>NaN</td>\n      <td>NaN</td>\n      <td>SHEET</td>\n      <td>0.7</td>\n      <td>1300.0</td>\n      <td>762</td>\n      <td>NaN</td>\n      <td>0.0</td>\n      <td>NaN</td>\n      <td>ruim</td>\n    </tr>\n    <tr>\n      <th>2</th>\n      <td>1368</td>\n      <td>2020</td>\n      <td>08</td>\n      <td>NaN</td>\n      <td>C</td>\n      <td>A</td>\n      <td>0.0</td>\n      <td>60.0</td>\n      <td>T</td>\n      <td>NaN</td>\n      <td>...</td>\n      <td>NaN</td>\n      <td>NaN</td>\n      <td>COIL</td>\n      <td>2.801</td>\n      <td>385.1</td>\n      <td>0</td>\n      <td>NaN</td>\n      <td>0.0</td>\n      <td>NaN</td>\n      <td>ideal</td>\n    </tr>\n    <tr>\n      <th>3</th>\n      <td>1130</td>\n      <td>2020</td>\n      <td>08</td>\n      <td>NaN</td>\n      <td>C</td>\n      <td>A</td>\n      <td>0.0</td>\n      <td>60.0</td>\n      <td>T</td>\n      <td>NaN</td>\n      <td>...</td>\n      <td>NaN</td>\n      <td>NaN</td>\n      <td>SHEET</td>\n      <td>0.801</td>\n      <td>255.0</td>\n      <td>269</td>\n      <td>NaN</td>\n      <td>0.0</td>\n      <td>NaN</td>\n      <td>ideal</td>\n    </tr>\n    <tr>\n      <th>4</th>\n      <td>402</td>\n      <td>2020</td>\n      <td>08</td>\n      <td>NaN</td>\n      <td>C</td>\n      <td>A</td>\n      <td>0.0</td>\n      <td>45.0</td>\n      <td>NaN</td>\n      <td>S</td>\n      <td>...</td>\n      <td>NaN</td>\n      <td>NaN</td>\n      <td>COIL</td>\n      <td>1.6</td>\n      <td>610.0</td>\n      <td>0</td>\n      <td>NaN</td>\n      <td>0.0</td>\n      <td>NaN</td>\n      <td>mediano</td>\n    </tr>\n    <tr>\n      <th>5</th>\n      <td>407</td>\n      <td>2020</td>\n      <td>08</td>\n      <td>NaN</td>\n      <td>C</td>\n      <td>R</td>\n      <td>0.0</td>\n      <td>0.0</td>\n      <td>NaN</td>\n      <td>S</td>\n      <td>...</td>\n      <td>NaN</td>\n      <td>NaN</td>\n      <td>SHEET</td>\n      <td>0.699</td>\n      <td>610.0</td>\n      <td>4880</td>\n      <td>Y</td>\n      <td>0.0</td>\n      <td>NaN</td>\n      <td>ruim</td>\n    </tr>\n  </tbody>\n</table>\n<p>5 rows × 42 columns</p>\n</div>"
     },
     "metadata": {},
     "execution_count": 468
    }
   ],
   "source": [
    "dados.replace(\"?\",np.nan, inplace=True)\n",
    "dados.head()"
   ]
  },
  {
   "cell_type": "code",
   "execution_count": 469,
   "metadata": {},
   "outputs": [
    {
     "output_type": "stream",
     "name": "stdout",
     "text": [
      " \nCount total NaN at each column in Dados DataFrame : \n\n exp_id                       0\nyear                         0\nmonth                        0\nfamily                    2073\nproduct-type                 1\nsteel                      232\ncarbon                       1\nhardness                     1\ntemper_rolling            2043\ncondition                  823\nformability                873\nstrength                     1\nnon-ageing                2139\nsurface-finish            2400\nsurface-quality            646\nenamelability             2385\nbc                        2421\nbf                        2070\nbt                        2220\nbw/me                     1851\nbl                        2019\nm                         2424\nchrom                     2352\nphos                      2406\ncbond                     2223\nmarvi                     2424\nexptl                     2418\nferro                     2343\ncorr                      2424\nblue/bright/varn/clean    2409\nlustre                    2286\njurofm                    2424\ns                         2424\np                         2424\nshape                        1\nthick                        1\nwidth                        1\nlen                          1\noil                       2250\nbore                         1\npacking                   2397\nrecozimento                  1\ndtype: int64\n"
     ]
    }
   ],
   "source": [
    "print(\" \\nCount total NaN at each column in Dados DataFrame : \\n\\n\", dados.isnull().sum())\r\n"
   ]
  },
  {
   "cell_type": "code",
   "execution_count": 565,
   "metadata": {},
   "outputs": [
    {
     "output_type": "stream",
     "name": "stdout",
     "text": [
      "Num of '0' elements in 'bore' column: 2303\nNum of '0' elements in 'strength' column: 2252\nNum of '0' elements in 'carbon' column: 2226\nNum of 'C' elements in 'product-type' column: 2423\n"
     ]
    }
   ],
   "source": [
    "print (\"Num of '0' elements in 'bore' column:\", (dados['bore'] == 0).sum() )\n",
    "print (\"Num of '0' elements in 'strength' column:\", (dados['strength'] == 0).sum() )\n",
    "print (\"Num of '0' elements in 'carbon' column:\", (dados['carbon'] == 0).sum() )\n",
    "print (\"Num of 'C' elements in 'product-type' column:\", (dados['product-type'] == \"C\").sum() )"
   ]
  },
  {
   "cell_type": "code",
   "execution_count": 566,
   "metadata": {},
   "outputs": [],
   "source": [
    "df_clean = dados.drop(['family','temper_rolling','non-ageing','surface-finish','enamelability', 'bc', 'bw/me', 'bf', 'bt', 'bl', 'chrom', 'phos', 'cbond', 'exptl', 'ferro', 'blue/bright/varn/clean','lustre', 'oil', 'packing','m', 'marvi', 'corr' , 'jurofm' , 's' , 'p', 'bore', 'strength', 'carbon', 'product-type'], axis = 1)"
   ]
  },
  {
   "cell_type": "code",
   "execution_count": 567,
   "metadata": {},
   "outputs": [
    {
     "output_type": "execute_result",
     "data": {
      "text/plain": [
       "exp_id              object\n",
       "year                object\n",
       "month               object\n",
       "steel               object\n",
       "hardness           float64\n",
       "condition           object\n",
       "formability         object\n",
       "surface-quality     object\n",
       "shape               object\n",
       "thick               object\n",
       "width               object\n",
       "len                 object\n",
       "recozimento         object\n",
       "dtype: object"
      ]
     },
     "metadata": {},
     "execution_count": 567
    }
   ],
   "source": [
    "df_clean.dtypes"
   ]
  },
  {
   "cell_type": "code",
   "execution_count": 597,
   "metadata": {},
   "outputs": [
    {
     "output_type": "execute_result",
     "data": {
      "text/plain": [
       "exp_id              object\n",
       "year                object\n",
       "month               object\n",
       "steel               object\n",
       "hardness           float64\n",
       "condition           object\n",
       "formability        float64\n",
       "surface-quality     object\n",
       "shape               object\n",
       "thick              float64\n",
       "width              float64\n",
       "len                float64\n",
       "recozimento         object\n",
       "dtype: object"
      ]
     },
     "metadata": {},
     "execution_count": 597
    }
   ],
   "source": [
    "df_clean[[\"formability\", \"thick\", \"width\", \"len\"]] = df_clean[[\"formability\", \"thick\", \"width\", \"len\"]].astype(\"float\")\n",
    "df_clean.dtypes"
   ]
  },
  {
   "cell_type": "code",
   "execution_count": 598,
   "metadata": {},
   "outputs": [
    {
     "output_type": "execute_result",
     "data": {
      "text/plain": [
       "     exp_id  year month steel  hardness condition  formability  \\\n",
       "1         2  2020     8     R       0.0         S       2.0000   \n",
       "2      1368  2020     8     A      60.0         S       2.2147   \n",
       "3      1130  2020     8     A      60.0         S       2.2147   \n",
       "4       402  2020     8     A      45.0         S       2.2147   \n",
       "5       407  2020     8     R       0.0         S       2.0000   \n",
       "...     ...   ...   ...   ...       ...       ...          ...   \n",
       "1612    145  2019     8     A       0.0         S       3.0000   \n",
       "1613    937  2019     8     R       0.0         S       3.0000   \n",
       "1614   2228  2019     8     A      85.0         S       2.2147   \n",
       "1615   1263  2019     8     A      85.0         S       2.2147   \n",
       "1616   1236  2019     8     A       0.0         S       2.2147   \n",
       "\n",
       "     surface-quality  shape  thick   width     len recozimento  \n",
       "1                  E  SHEET  0.700  1300.0   762.0        ruim  \n",
       "2                  G   COIL  2.801   385.1     0.0       ideal  \n",
       "3                  G  SHEET  0.801   255.0   269.0       ideal  \n",
       "4                  D   COIL  1.600   610.0     0.0     mediano  \n",
       "5                  E  SHEET  0.699   610.0  4880.0        ruim  \n",
       "...              ...    ...    ...     ...     ...         ...  \n",
       "1612               E  SHEET  1.200   609.9     1.0       ideal  \n",
       "1613               E  SHEET  1.601   830.0   880.0       ideal  \n",
       "1614               G   COIL  0.400    20.0     0.0       ideal  \n",
       "1615               G   COIL  4.000   610.0     0.0       ideal  \n",
       "1616               G   COIL  0.700   610.0     0.0     mediano  \n",
       "\n",
       "[1616 rows x 13 columns]"
      ],
      "text/html": "<div>\n<style scoped>\n    .dataframe tbody tr th:only-of-type {\n        vertical-align: middle;\n    }\n\n    .dataframe tbody tr th {\n        vertical-align: top;\n    }\n\n    .dataframe thead th {\n        text-align: right;\n    }\n</style>\n<table border=\"1\" class=\"dataframe\">\n  <thead>\n    <tr style=\"text-align: right;\">\n      <th></th>\n      <th>exp_id</th>\n      <th>year</th>\n      <th>month</th>\n      <th>steel</th>\n      <th>hardness</th>\n      <th>condition</th>\n      <th>formability</th>\n      <th>surface-quality</th>\n      <th>shape</th>\n      <th>thick</th>\n      <th>width</th>\n      <th>len</th>\n      <th>recozimento</th>\n    </tr>\n  </thead>\n  <tbody>\n    <tr>\n      <th>1</th>\n      <td>2</td>\n      <td>2020</td>\n      <td>8</td>\n      <td>R</td>\n      <td>0.0</td>\n      <td>S</td>\n      <td>2.0000</td>\n      <td>E</td>\n      <td>SHEET</td>\n      <td>0.700</td>\n      <td>1300.0</td>\n      <td>762.0</td>\n      <td>ruim</td>\n    </tr>\n    <tr>\n      <th>2</th>\n      <td>1368</td>\n      <td>2020</td>\n      <td>8</td>\n      <td>A</td>\n      <td>60.0</td>\n      <td>S</td>\n      <td>2.2147</td>\n      <td>G</td>\n      <td>COIL</td>\n      <td>2.801</td>\n      <td>385.1</td>\n      <td>0.0</td>\n      <td>ideal</td>\n    </tr>\n    <tr>\n      <th>3</th>\n      <td>1130</td>\n      <td>2020</td>\n      <td>8</td>\n      <td>A</td>\n      <td>60.0</td>\n      <td>S</td>\n      <td>2.2147</td>\n      <td>G</td>\n      <td>SHEET</td>\n      <td>0.801</td>\n      <td>255.0</td>\n      <td>269.0</td>\n      <td>ideal</td>\n    </tr>\n    <tr>\n      <th>4</th>\n      <td>402</td>\n      <td>2020</td>\n      <td>8</td>\n      <td>A</td>\n      <td>45.0</td>\n      <td>S</td>\n      <td>2.2147</td>\n      <td>D</td>\n      <td>COIL</td>\n      <td>1.600</td>\n      <td>610.0</td>\n      <td>0.0</td>\n      <td>mediano</td>\n    </tr>\n    <tr>\n      <th>5</th>\n      <td>407</td>\n      <td>2020</td>\n      <td>8</td>\n      <td>R</td>\n      <td>0.0</td>\n      <td>S</td>\n      <td>2.0000</td>\n      <td>E</td>\n      <td>SHEET</td>\n      <td>0.699</td>\n      <td>610.0</td>\n      <td>4880.0</td>\n      <td>ruim</td>\n    </tr>\n    <tr>\n      <th>...</th>\n      <td>...</td>\n      <td>...</td>\n      <td>...</td>\n      <td>...</td>\n      <td>...</td>\n      <td>...</td>\n      <td>...</td>\n      <td>...</td>\n      <td>...</td>\n      <td>...</td>\n      <td>...</td>\n      <td>...</td>\n      <td>...</td>\n    </tr>\n    <tr>\n      <th>1612</th>\n      <td>145</td>\n      <td>2019</td>\n      <td>8</td>\n      <td>A</td>\n      <td>0.0</td>\n      <td>S</td>\n      <td>3.0000</td>\n      <td>E</td>\n      <td>SHEET</td>\n      <td>1.200</td>\n      <td>609.9</td>\n      <td>1.0</td>\n      <td>ideal</td>\n    </tr>\n    <tr>\n      <th>1613</th>\n      <td>937</td>\n      <td>2019</td>\n      <td>8</td>\n      <td>R</td>\n      <td>0.0</td>\n      <td>S</td>\n      <td>3.0000</td>\n      <td>E</td>\n      <td>SHEET</td>\n      <td>1.601</td>\n      <td>830.0</td>\n      <td>880.0</td>\n      <td>ideal</td>\n    </tr>\n    <tr>\n      <th>1614</th>\n      <td>2228</td>\n      <td>2019</td>\n      <td>8</td>\n      <td>A</td>\n      <td>85.0</td>\n      <td>S</td>\n      <td>2.2147</td>\n      <td>G</td>\n      <td>COIL</td>\n      <td>0.400</td>\n      <td>20.0</td>\n      <td>0.0</td>\n      <td>ideal</td>\n    </tr>\n    <tr>\n      <th>1615</th>\n      <td>1263</td>\n      <td>2019</td>\n      <td>8</td>\n      <td>A</td>\n      <td>85.0</td>\n      <td>S</td>\n      <td>2.2147</td>\n      <td>G</td>\n      <td>COIL</td>\n      <td>4.000</td>\n      <td>610.0</td>\n      <td>0.0</td>\n      <td>ideal</td>\n    </tr>\n    <tr>\n      <th>1616</th>\n      <td>1236</td>\n      <td>2019</td>\n      <td>8</td>\n      <td>A</td>\n      <td>0.0</td>\n      <td>S</td>\n      <td>2.2147</td>\n      <td>G</td>\n      <td>COIL</td>\n      <td>0.700</td>\n      <td>610.0</td>\n      <td>0.0</td>\n      <td>mediano</td>\n    </tr>\n  </tbody>\n</table>\n<p>1616 rows × 13 columns</p>\n</div>"
     },
     "metadata": {},
     "execution_count": 598
    }
   ],
   "source": [
    "grouped = df_clean.groupby(df_clean.month)\n",
    "df_clean = grouped.get_group(8.0)\n",
    "df_clean"
   ]
  },
  {
   "cell_type": "code",
   "execution_count": 578,
   "metadata": {},
   "outputs": [
    {
     "output_type": "stream",
     "name": "stdout",
     "text": [
      " \nCount total NaN at each column in Dados DataFrame : \n\n exp_id               0\nyear                 0\nmonth                0\nsteel              154\nhardness             0\ncondition          548\nformability        582\nsurface-quality    430\nshape                0\nthick                0\nwidth                0\nlen                  0\nrecozimento          0\ndtype: int64\n"
     ]
    }
   ],
   "source": [
    "print(\" \\nCount total NaN at each column in df_clean DataFrame : \\n\\n\", df_clean.isnull().sum())"
   ]
  },
  {
   "cell_type": "code",
   "execution_count": 582,
   "metadata": {},
   "outputs": [
    {
     "output_type": "stream",
     "name": "stdout",
     "text": [
      "Most frequent element present in 'steel' column: A\nMost frequent element present in 'condition' column: S\nMost frequent element present in 'surface-quality' column: E\n"
     ]
    }
   ],
   "source": [
    "print (\"Most frequent element present in 'steel' column:\", df_clean['steel'].value_counts().idxmax() )\n",
    "print (\"Most frequent element present in 'condition' column:\", df_clean['condition'].value_counts().idxmax() )\n",
    "print (\"Most frequent element present in 'surface-quality' column:\", df_clean['surface-quality'].value_counts().idxmax() )"
   ]
  },
  {
   "cell_type": "code",
   "execution_count": 584,
   "metadata": {},
   "outputs": [
    {
     "output_type": "stream",
     "name": "stderr",
     "text": [
      "C:\\Users\\tiago\\AppData\\Local\\Programs\\Python\\Python39\\lib\\site-packages\\pandas\\core\\series.py:4509: SettingWithCopyWarning: \nA value is trying to be set on a copy of a slice from a DataFrame\n\nSee the caveats in the documentation: https://pandas.pydata.org/pandas-docs/stable/user_guide/indexing.html#returning-a-view-versus-a-copy\n  return super().replace(\n"
     ]
    }
   ],
   "source": [
    "df_clean['steel'].replace(np.nan, \"A\", inplace=True)\n",
    "df_clean['condition'].replace(np.nan, \"S\", inplace=True)\n",
    "df_clean['surface-quality'].replace(np.nan, \"E\", inplace=True) "
   ]
  },
  {
   "cell_type": "code",
   "execution_count": 587,
   "metadata": {},
   "outputs": [
    {
     "output_type": "stream",
     "name": "stdout",
     "text": [
      "Average of formability: 2.2147001934235977\n"
     ]
    }
   ],
   "source": [
    "avg_formab = df_clean['formability'].mean(axis=0)\n",
    "print(\"Average of formability:\", avg_formab )"
   ]
  },
  {
   "cell_type": "code",
   "execution_count": 588,
   "metadata": {},
   "outputs": [
    {
     "output_type": "stream",
     "name": "stderr",
     "text": [
      "C:\\Users\\tiago\\AppData\\Local\\Programs\\Python\\Python39\\lib\\site-packages\\pandas\\core\\series.py:4509: SettingWithCopyWarning: \nA value is trying to be set on a copy of a slice from a DataFrame\n\nSee the caveats in the documentation: https://pandas.pydata.org/pandas-docs/stable/user_guide/indexing.html#returning-a-view-versus-a-copy\n  return super().replace(\n"
     ]
    }
   ],
   "source": [
    "df_clean['formability'].replace(np.nan, avg_formab, inplace=True)"
   ]
  },
  {
   "cell_type": "code",
   "execution_count": 589,
   "metadata": {},
   "outputs": [
    {
     "output_type": "stream",
     "name": "stdout",
     "text": [
      " \nCount total NaN at each column in Dados DataFrame : \n\n exp_id             0\nyear               0\nmonth              0\nsteel              0\nhardness           0\ncondition          0\nformability        0\nsurface-quality    0\nshape              0\nthick              0\nwidth              0\nlen                0\nrecozimento        0\ndtype: int64\n"
     ]
    }
   ],
   "source": [
    "print(\" \\nCount total NaN at each column in Dados DataFrame : \\n\\n\", df_clean.isnull().sum())"
   ]
  },
  {
   "cell_type": "code",
   "execution_count": 600,
   "metadata": {},
   "outputs": [
    {
     "output_type": "execute_result",
     "data": {
      "text/plain": [
       "     exp_id  year month steel  hardness condition  formability  \\\n",
       "1         2  2020     8     R       0.0         S       2.0000   \n",
       "2      1368  2020     8     A      60.0         S       2.2147   \n",
       "3      1130  2020     8     A      60.0         S       2.2147   \n",
       "4       402  2020     8     A      45.0         S       2.2147   \n",
       "5       407  2020     8     R       0.0         S       2.0000   \n",
       "...     ...   ...   ...   ...       ...       ...          ...   \n",
       "1612    145  2019     8     A       0.0         S       3.0000   \n",
       "1613    937  2019     8     R       0.0         S       3.0000   \n",
       "1614   2228  2019     8     A      85.0         S       2.2147   \n",
       "1615   1263  2019     8     A      85.0         S       2.2147   \n",
       "1616   1236  2019     8     A       0.0         S       2.2147   \n",
       "\n",
       "     surface-quality  shape  thick   width     len recozimento  \n",
       "1                  E  SHEET  0.700  1300.0   762.0        ruim  \n",
       "2                  G   COIL  2.801   385.1     0.0       ideal  \n",
       "3                  G  SHEET  0.801   255.0   269.0       ideal  \n",
       "4                  D   COIL  1.600   610.0     0.0     mediano  \n",
       "5                  E  SHEET  0.699   610.0  4880.0        ruim  \n",
       "...              ...    ...    ...     ...     ...         ...  \n",
       "1612               E  SHEET  1.200   609.9     1.0       ideal  \n",
       "1613               E  SHEET  1.601   830.0   880.0       ideal  \n",
       "1614               G   COIL  0.400    20.0     0.0       ideal  \n",
       "1615               G   COIL  4.000   610.0     0.0       ideal  \n",
       "1616               G   COIL  0.700   610.0     0.0     mediano  \n",
       "\n",
       "[1616 rows x 13 columns]"
      ],
      "text/html": "<div>\n<style scoped>\n    .dataframe tbody tr th:only-of-type {\n        vertical-align: middle;\n    }\n\n    .dataframe tbody tr th {\n        vertical-align: top;\n    }\n\n    .dataframe thead th {\n        text-align: right;\n    }\n</style>\n<table border=\"1\" class=\"dataframe\">\n  <thead>\n    <tr style=\"text-align: right;\">\n      <th></th>\n      <th>exp_id</th>\n      <th>year</th>\n      <th>month</th>\n      <th>steel</th>\n      <th>hardness</th>\n      <th>condition</th>\n      <th>formability</th>\n      <th>surface-quality</th>\n      <th>shape</th>\n      <th>thick</th>\n      <th>width</th>\n      <th>len</th>\n      <th>recozimento</th>\n    </tr>\n  </thead>\n  <tbody>\n    <tr>\n      <th>1</th>\n      <td>2</td>\n      <td>2020</td>\n      <td>8</td>\n      <td>R</td>\n      <td>0.0</td>\n      <td>S</td>\n      <td>2.0000</td>\n      <td>E</td>\n      <td>SHEET</td>\n      <td>0.700</td>\n      <td>1300.0</td>\n      <td>762.0</td>\n      <td>ruim</td>\n    </tr>\n    <tr>\n      <th>2</th>\n      <td>1368</td>\n      <td>2020</td>\n      <td>8</td>\n      <td>A</td>\n      <td>60.0</td>\n      <td>S</td>\n      <td>2.2147</td>\n      <td>G</td>\n      <td>COIL</td>\n      <td>2.801</td>\n      <td>385.1</td>\n      <td>0.0</td>\n      <td>ideal</td>\n    </tr>\n    <tr>\n      <th>3</th>\n      <td>1130</td>\n      <td>2020</td>\n      <td>8</td>\n      <td>A</td>\n      <td>60.0</td>\n      <td>S</td>\n      <td>2.2147</td>\n      <td>G</td>\n      <td>SHEET</td>\n      <td>0.801</td>\n      <td>255.0</td>\n      <td>269.0</td>\n      <td>ideal</td>\n    </tr>\n    <tr>\n      <th>4</th>\n      <td>402</td>\n      <td>2020</td>\n      <td>8</td>\n      <td>A</td>\n      <td>45.0</td>\n      <td>S</td>\n      <td>2.2147</td>\n      <td>D</td>\n      <td>COIL</td>\n      <td>1.600</td>\n      <td>610.0</td>\n      <td>0.0</td>\n      <td>mediano</td>\n    </tr>\n    <tr>\n      <th>5</th>\n      <td>407</td>\n      <td>2020</td>\n      <td>8</td>\n      <td>R</td>\n      <td>0.0</td>\n      <td>S</td>\n      <td>2.0000</td>\n      <td>E</td>\n      <td>SHEET</td>\n      <td>0.699</td>\n      <td>610.0</td>\n      <td>4880.0</td>\n      <td>ruim</td>\n    </tr>\n    <tr>\n      <th>...</th>\n      <td>...</td>\n      <td>...</td>\n      <td>...</td>\n      <td>...</td>\n      <td>...</td>\n      <td>...</td>\n      <td>...</td>\n      <td>...</td>\n      <td>...</td>\n      <td>...</td>\n      <td>...</td>\n      <td>...</td>\n      <td>...</td>\n    </tr>\n    <tr>\n      <th>1612</th>\n      <td>145</td>\n      <td>2019</td>\n      <td>8</td>\n      <td>A</td>\n      <td>0.0</td>\n      <td>S</td>\n      <td>3.0000</td>\n      <td>E</td>\n      <td>SHEET</td>\n      <td>1.200</td>\n      <td>609.9</td>\n      <td>1.0</td>\n      <td>ideal</td>\n    </tr>\n    <tr>\n      <th>1613</th>\n      <td>937</td>\n      <td>2019</td>\n      <td>8</td>\n      <td>R</td>\n      <td>0.0</td>\n      <td>S</td>\n      <td>3.0000</td>\n      <td>E</td>\n      <td>SHEET</td>\n      <td>1.601</td>\n      <td>830.0</td>\n      <td>880.0</td>\n      <td>ideal</td>\n    </tr>\n    <tr>\n      <th>1614</th>\n      <td>2228</td>\n      <td>2019</td>\n      <td>8</td>\n      <td>A</td>\n      <td>85.0</td>\n      <td>S</td>\n      <td>2.2147</td>\n      <td>G</td>\n      <td>COIL</td>\n      <td>0.400</td>\n      <td>20.0</td>\n      <td>0.0</td>\n      <td>ideal</td>\n    </tr>\n    <tr>\n      <th>1615</th>\n      <td>1263</td>\n      <td>2019</td>\n      <td>8</td>\n      <td>A</td>\n      <td>85.0</td>\n      <td>S</td>\n      <td>2.2147</td>\n      <td>G</td>\n      <td>COIL</td>\n      <td>4.000</td>\n      <td>610.0</td>\n      <td>0.0</td>\n      <td>ideal</td>\n    </tr>\n    <tr>\n      <th>1616</th>\n      <td>1236</td>\n      <td>2019</td>\n      <td>8</td>\n      <td>A</td>\n      <td>0.0</td>\n      <td>S</td>\n      <td>2.2147</td>\n      <td>G</td>\n      <td>COIL</td>\n      <td>0.700</td>\n      <td>610.0</td>\n      <td>0.0</td>\n      <td>mediano</td>\n    </tr>\n  </tbody>\n</table>\n<p>1616 rows × 13 columns</p>\n</div>"
     },
     "metadata": {},
     "execution_count": 600
    }
   ],
   "source": [
    "df_clean"
   ]
  },
  {
   "cell_type": "code",
   "execution_count": 604,
   "metadata": {},
   "outputs": [],
   "source": [
    "df_clean.to_csv('data_experimentos_CLEAN.csv')"
   ]
  },
  {
   "cell_type": "code",
   "execution_count": null,
   "metadata": {},
   "outputs": [],
   "source": []
  }
 ]
}